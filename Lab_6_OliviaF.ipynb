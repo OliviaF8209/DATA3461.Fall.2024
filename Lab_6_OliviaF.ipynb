{
  "cells": [
    {
      "cell_type": "markdown",
      "id": "49cf8381",
      "metadata": {
        "id": "49cf8381"
      },
      "source": [
        "# Lab 6\n",
        "\n",
        "Scikit learn provides a large variety of algorithms for some common Machine Learning tasks, such as:\n",
        "\n",
        "* Classification\n",
        "* Regression\n",
        "* Clustering\n",
        "* Feature Selection\n",
        "* Anomaly Detection\n",
        "\n",
        "It also provides some datasets that you can use to test these algorithms:\n",
        "\n",
        "* Classification Datasets:\n",
        "    * Breast cancer wisconsin\n",
        "    * Iris plants (3-classes)\n",
        "    * Optical recognition of handwritten digits (10-classes)\n",
        "    * Wine (n-classes)\n",
        "\n",
        "* Regression Datasets:\n",
        "    * Boston house prices\n",
        "    * Diabetes\n",
        "    * Linnerrud (multiple regression)\n",
        "    * California Housing\n",
        "\n",
        "* Image:\n",
        "    * The Olivetti faces\n",
        "    * The Labeled Faces in the Wild face recognition\n",
        "    * Forest covertypes\n",
        "\n",
        "* NLP:\n",
        "    * News group\n",
        "    * Reuters Corpus Volume I\n",
        "\n",
        "* Other:\n",
        "    * Kddcup 99- Intrusion Detection"
      ]
    },
    {
      "cell_type": "markdown",
      "id": "d4e3b6e9",
      "metadata": {
        "id": "d4e3b6e9"
      },
      "source": [
        "## Exercises\n",
        "\n",
        "1. Use the full [Kddcup](http://kdd.ics.uci.edu/databases/kddcup99/kddcup99.html) dataset to compare classification performance of 3 different classifiers.\n",
        "    * Separate the data into train, validation, and test.\n",
        "    * Use accuracy as the metric for assessing performance.\n",
        "    * For each classifier, identify the hyperparameters. Perform optimization over at least 2 hyperparameters.   \n",
        "    * Compare the performance of the optimal configuration of the classifiers.\n",
        "\n",
        "2. Pick the best algorithm in question 1. Create an ensemble of at least 25 models, and use them for the classification task. Identify the top and bottom 10% of the data in terms of uncertainty of the decision.\n",
        "\n",
        "3. Use 2 different feature selection algorithm to identify the 10 most important features for the task in question 1. Retrain classifiers in question 1 with just this subset of features and compare performance.\n",
        "\n",
        "4. Use the same data, removing the labels, and compare performance of 3 different clustering algorithms. Can you find clusters for each of the classes in question 1?\n",
        "\n",
        "5. Can you identify any clusters within the top/botton 10% identified in 2. What are their characteristics?\n",
        "\n",
        "6. Use the \"SA\" dataset to compare the performance of 3 different anomaly detection algorithms.\n",
        "\n",
        "7. Create a subsample of 250 datapoints, redo question 6, using Leave-one-out as the method of evaluation.\n",
        "\n",
        "8. Use the feature selection algorithm to identify the 5 most important features for the task in question 6, for each algorithm. Does the anomaly detection improve using less features?"
      ]
    },
    {
      "cell_type": "markdown",
      "id": "ef18662c",
      "metadata": {
        "id": "ef18662c"
      },
      "source": [
        "## Quick look at the data"
      ]
    },
    {
      "cell_type": "code",
      "execution_count": 1,
      "id": "9f1c631a",
      "metadata": {
        "id": "9f1c631a"
      },
      "outputs": [],
      "source": [
        "from sklearn.datasets import fetch_kddcup99\n",
        "D=fetch_kddcup99()"
      ]
    },
    {
      "cell_type": "code",
      "execution_count": 2,
      "id": "7d561eff",
      "metadata": {
        "colab": {
          "base_uri": "https://localhost:8080/"
        },
        "id": "7d561eff",
        "outputId": "7b526937-0c97-46b8-a37e-fdcc0a4097c2"
      },
      "outputs": [
        {
          "output_type": "execute_result",
          "data": {
            "text/plain": [
              "['DESCR', 'data', 'feature_names', 'frame', 'target', 'target_names']"
            ]
          },
          "metadata": {},
          "execution_count": 2
        }
      ],
      "source": [
        "dir(D)"
      ]
    },
    {
      "cell_type": "code",
      "execution_count": 3,
      "id": "875d2d16",
      "metadata": {
        "colab": {
          "base_uri": "https://localhost:8080/"
        },
        "id": "875d2d16",
        "outputId": "28ffafa9-54db-47df-ba9a-534c7e0b658e"
      },
      "outputs": [
        {
          "output_type": "stream",
          "name": "stdout",
          "text": [
            ".. _kddcup99_dataset:\n",
            "\n",
            "Kddcup 99 dataset\n",
            "-----------------\n",
            "\n",
            "The KDD Cup '99 dataset was created by processing the tcpdump portions\n",
            "of the 1998 DARPA Intrusion Detection System (IDS) Evaluation dataset,\n",
            "created by MIT Lincoln Lab [2]_. The artificial data (described on the `dataset's\n",
            "homepage <https://kdd.ics.uci.edu/databases/kddcup99/kddcup99.html>`_) was\n",
            "generated using a closed network and hand-injected attacks to produce a\n",
            "large number of different types of attack with normal activity in the\n",
            "background. As the initial goal was to produce a large training set for\n",
            "supervised learning algorithms, there is a large proportion (80.1%) of\n",
            "abnormal data which is unrealistic in real world, and inappropriate for\n",
            "unsupervised anomaly detection which aims at detecting 'abnormal' data, i.e.:\n",
            "\n",
            "* qualitatively different from normal data\n",
            "* in large minority among the observations.\n",
            "\n",
            "We thus transform the KDD Data set into two different data sets: SA and SF.\n",
            "\n",
            "* SA is obtained by simply selecting all the normal data, and a small\n",
            "  proportion of abnormal data to gives an anomaly proportion of 1%.\n",
            "\n",
            "* SF is obtained as in [3]_\n",
            "  by simply picking up the data whose attribute logged_in is positive, thus\n",
            "  focusing on the intrusion attack, which gives a proportion of 0.3% of\n",
            "  attack.\n",
            "\n",
            "* http and smtp are two subsets of SF corresponding with third feature\n",
            "  equal to 'http' (resp. to 'smtp').\n",
            "\n",
            "General KDD structure:\n",
            "\n",
            "================      ==========================================\n",
            "Samples total         4898431\n",
            "Dimensionality        41\n",
            "Features              discrete (int) or continuous (float)\n",
            "Targets               str, 'normal.' or name of the anomaly type\n",
            "================      ==========================================\n",
            "\n",
            "SA structure:\n",
            "\n",
            "================      ==========================================\n",
            "Samples total         976158\n",
            "Dimensionality        41\n",
            "Features              discrete (int) or continuous (float)\n",
            "Targets               str, 'normal.' or name of the anomaly type\n",
            "================      ==========================================\n",
            "\n",
            "SF structure:\n",
            "\n",
            "================      ==========================================\n",
            "Samples total         699691\n",
            "Dimensionality        4\n",
            "Features              discrete (int) or continuous (float)\n",
            "Targets               str, 'normal.' or name of the anomaly type\n",
            "================      ==========================================\n",
            "\n",
            "http structure:\n",
            "\n",
            "================      ==========================================\n",
            "Samples total         619052\n",
            "Dimensionality        3\n",
            "Features              discrete (int) or continuous (float)\n",
            "Targets               str, 'normal.' or name of the anomaly type\n",
            "================      ==========================================\n",
            "\n",
            "smtp structure:\n",
            "\n",
            "================      ==========================================\n",
            "Samples total         95373\n",
            "Dimensionality        3\n",
            "Features              discrete (int) or continuous (float)\n",
            "Targets               str, 'normal.' or name of the anomaly type\n",
            "================      ==========================================\n",
            "\n",
            ":func:`sklearn.datasets.fetch_kddcup99` will load the kddcup99 dataset; it\n",
            "returns a dictionary-like object with the feature matrix in the ``data`` member\n",
            "and the target values in ``target``. The \"as_frame\" optional argument converts\n",
            "``data`` into a pandas DataFrame and ``target`` into a pandas Series. The\n",
            "dataset will be downloaded from the web if necessary.\n",
            "\n",
            ".. rubric:: References\n",
            "\n",
            ".. [2] Analysis and Results of the 1999 DARPA Off-Line Intrusion\n",
            "       Detection Evaluation, Richard Lippmann, Joshua W. Haines,\n",
            "       David J. Fried, Jonathan Korba, Kumar Das.\n",
            "\n",
            ".. [3] K. Yamanishi, J.-I. Takeuchi, G. Williams, and P. Milne. Online\n",
            "       unsupervised outlier detection using finite mixtures with\n",
            "       discounting learning algorithms. In Proceedings of the sixth\n",
            "       ACM SIGKDD international conference on Knowledge discovery\n",
            "       and data mining, pages 320-324. ACM Press, 2000.\n",
            "\n"
          ]
        }
      ],
      "source": [
        "print(D[\"DESCR\"])"
      ]
    },
    {
      "cell_type": "code",
      "execution_count": 4,
      "id": "f3c3c5b8",
      "metadata": {
        "colab": {
          "base_uri": "https://localhost:8080/"
        },
        "id": "f3c3c5b8",
        "outputId": "58e7e7bc-6a3d-49e5-d1f3-bb29d4df4be4"
      },
      "outputs": [
        {
          "output_type": "execute_result",
          "data": {
            "text/plain": [
              "['DESCR', 'data', 'feature_names', 'frame', 'target', 'target_names']"
            ]
          },
          "metadata": {},
          "execution_count": 4
        }
      ],
      "source": [
        "dir(D)"
      ]
    },
    {
      "cell_type": "code",
      "execution_count": 5,
      "id": "4cef559d",
      "metadata": {
        "colab": {
          "base_uri": "https://localhost:8080/"
        },
        "id": "4cef559d",
        "outputId": "656255cc-b5a8-46f4-cfe7-339cff8d57ed"
      },
      "outputs": [
        {
          "output_type": "execute_result",
          "data": {
            "text/plain": [
              "array([b'back.', b'buffer_overflow.', b'ftp_write.', b'guess_passwd.',\n",
              "       b'imap.', b'ipsweep.', b'land.', b'loadmodule.', b'multihop.',\n",
              "       b'neptune.', b'nmap.', b'normal.', b'perl.', b'phf.', b'pod.',\n",
              "       b'portsweep.', b'rootkit.', b'satan.', b'smurf.', b'spy.',\n",
              "       b'teardrop.', b'warezclient.', b'warezmaster.'], dtype=object)"
            ]
          },
          "metadata": {},
          "execution_count": 5
        }
      ],
      "source": [
        "import numpy as np\n",
        "np.unique(D[\"target\"])"
      ]
    },
    {
      "cell_type": "code",
      "execution_count": 6,
      "id": "6ed0289b",
      "metadata": {
        "colab": {
          "base_uri": "https://localhost:8080/"
        },
        "id": "6ed0289b",
        "outputId": "b040e48c-729a-4d21-8a0d-8fdb71b6198c"
      },
      "outputs": [
        {
          "output_type": "execute_result",
          "data": {
            "text/plain": [
              "23"
            ]
          },
          "metadata": {},
          "execution_count": 6
        }
      ],
      "source": [
        "len(np.unique(D[\"target\"]))"
      ]
    },
    {
      "cell_type": "code",
      "execution_count": 7,
      "id": "aff034ea",
      "metadata": {
        "colab": {
          "base_uri": "https://localhost:8080/"
        },
        "id": "aff034ea",
        "outputId": "1d0532a2-5095-4667-dda0-82a2807c1321"
      },
      "outputs": [
        {
          "output_type": "execute_result",
          "data": {
            "text/plain": [
              "['duration',\n",
              " 'protocol_type',\n",
              " 'service',\n",
              " 'flag',\n",
              " 'src_bytes',\n",
              " 'dst_bytes',\n",
              " 'land',\n",
              " 'wrong_fragment',\n",
              " 'urgent',\n",
              " 'hot',\n",
              " 'num_failed_logins',\n",
              " 'logged_in',\n",
              " 'num_compromised',\n",
              " 'root_shell',\n",
              " 'su_attempted',\n",
              " 'num_root',\n",
              " 'num_file_creations',\n",
              " 'num_shells',\n",
              " 'num_access_files',\n",
              " 'num_outbound_cmds',\n",
              " 'is_host_login',\n",
              " 'is_guest_login',\n",
              " 'count',\n",
              " 'srv_count',\n",
              " 'serror_rate',\n",
              " 'srv_serror_rate',\n",
              " 'rerror_rate',\n",
              " 'srv_rerror_rate',\n",
              " 'same_srv_rate',\n",
              " 'diff_srv_rate',\n",
              " 'srv_diff_host_rate',\n",
              " 'dst_host_count',\n",
              " 'dst_host_srv_count',\n",
              " 'dst_host_same_srv_rate',\n",
              " 'dst_host_diff_srv_rate',\n",
              " 'dst_host_same_src_port_rate',\n",
              " 'dst_host_srv_diff_host_rate',\n",
              " 'dst_host_serror_rate',\n",
              " 'dst_host_srv_serror_rate',\n",
              " 'dst_host_rerror_rate',\n",
              " 'dst_host_srv_rerror_rate']"
            ]
          },
          "metadata": {},
          "execution_count": 7
        }
      ],
      "source": [
        "D[\"feature_names\"]"
      ]
    },
    {
      "cell_type": "code",
      "source": [
        "#import libraries\n",
        "import pandas as pd\n",
        "import numpy as np\n",
        "import matplotlib.pyplot as plt\n",
        "from sklearn.model_selection import train_test_split\n",
        "from sklearn.pipeline import Pipeline\n",
        "from sklearn.linear_model import LinearRegression\n",
        "from sklearn.metrics import mean_squared_error, r2_score\n",
        "import os\n",
        "from sklearn.preprocessing import LabelEncoder\n",
        "from sklearn.feature_selection import SelectKBest, chi2"
      ],
      "metadata": {
        "id": "MX4dH8QcR9j_"
      },
      "id": "MX4dH8QcR9j_",
      "execution_count": 33,
      "outputs": []
    },
    {
      "cell_type": "code",
      "execution_count": 9,
      "id": "cfd97ecd",
      "metadata": {
        "id": "cfd97ecd",
        "colab": {
          "base_uri": "https://localhost:8080/"
        },
        "outputId": "a3c3ce1f-1ceb-4346-90e4-f16530a75cb5"
      },
      "outputs": [
        {
          "output_type": "stream",
          "name": "stdout",
          "text": [
            "File has been unzipped to: /content/kddcup.data\n"
          ]
        }
      ],
      "source": [
        "import gzip\n",
        "import shutil\n",
        "\n",
        "gz_file_path = '/content/kddcup.data.gz'\n",
        "\n",
        "extracted_file_path = '/content/kddcup.data'\n",
        "\n",
        "# Unzip the file\n",
        "with gzip.open(gz_file_path, 'rb') as gz_file:\n",
        "    with open(extracted_file_path, 'wb') as extracted_file:\n",
        "        shutil.copyfileobj(gz_file, extracted_file)\n",
        "\n",
        "print(\"File has been unzipped to:\", extracted_file_path)\n"
      ]
    },
    {
      "cell_type": "code",
      "source": [
        "import pandas as pd\n",
        "n_rows= 50000\n",
        "data = pd.read_csv('/content/kddcup.data', header=None, nrows=n_rows)\n",
        "data.head()"
      ],
      "metadata": {
        "colab": {
          "base_uri": "https://localhost:8080/",
          "height": 226
        },
        "id": "bx134sPnQ7oe",
        "outputId": "7dd46c4e-fde8-49a1-aaa7-935138c6f7fd"
      },
      "id": "bx134sPnQ7oe",
      "execution_count": 11,
      "outputs": [
        {
          "output_type": "execute_result",
          "data": {
            "text/plain": [
              "   0    1     2   3    4      5   6   7   8   9   10  11  12  13  14  15  16  \\\n",
              "0   0  tcp  http  SF  215  45076   0   0   0   0   0   1   0   0   0   0   0   \n",
              "1   0  tcp  http  SF  162   4528   0   0   0   0   0   1   0   0   0   0   0   \n",
              "2   0  tcp  http  SF  236   1228   0   0   0   0   0   1   0   0   0   0   0   \n",
              "3   0  tcp  http  SF  233   2032   0   0   0   0   0   1   0   0   0   0   0   \n",
              "4   0  tcp  http  SF  239    486   0   0   0   0   0   1   0   0   0   0   0   \n",
              "\n",
              "   17  18  19  20  21  22  23   24   25   26   27   28   29   30  31  32   33  \\\n",
              "0   0   0   0   0   0   1   1  0.0  0.0  0.0  0.0  1.0  0.0  0.0   0   0  0.0   \n",
              "1   0   0   0   0   0   2   2  0.0  0.0  0.0  0.0  1.0  0.0  0.0   1   1  1.0   \n",
              "2   0   0   0   0   0   1   1  0.0  0.0  0.0  0.0  1.0  0.0  0.0   2   2  1.0   \n",
              "3   0   0   0   0   0   2   2  0.0  0.0  0.0  0.0  1.0  0.0  0.0   3   3  1.0   \n",
              "4   0   0   0   0   0   3   3  0.0  0.0  0.0  0.0  1.0  0.0  0.0   4   4  1.0   \n",
              "\n",
              "    34    35   36   37   38   39   40       41  \n",
              "0  0.0  0.00  0.0  0.0  0.0  0.0  0.0  normal.  \n",
              "1  0.0  1.00  0.0  0.0  0.0  0.0  0.0  normal.  \n",
              "2  0.0  0.50  0.0  0.0  0.0  0.0  0.0  normal.  \n",
              "3  0.0  0.33  0.0  0.0  0.0  0.0  0.0  normal.  \n",
              "4  0.0  0.25  0.0  0.0  0.0  0.0  0.0  normal.  "
            ],
            "text/html": [
              "\n",
              "  <div id=\"df-f969a225-3891-4cbc-b4c1-47ee4eb6b1bc\" class=\"colab-df-container\">\n",
              "    <div>\n",
              "<style scoped>\n",
              "    .dataframe tbody tr th:only-of-type {\n",
              "        vertical-align: middle;\n",
              "    }\n",
              "\n",
              "    .dataframe tbody tr th {\n",
              "        vertical-align: top;\n",
              "    }\n",
              "\n",
              "    .dataframe thead th {\n",
              "        text-align: right;\n",
              "    }\n",
              "</style>\n",
              "<table border=\"1\" class=\"dataframe\">\n",
              "  <thead>\n",
              "    <tr style=\"text-align: right;\">\n",
              "      <th></th>\n",
              "      <th>0</th>\n",
              "      <th>1</th>\n",
              "      <th>2</th>\n",
              "      <th>3</th>\n",
              "      <th>4</th>\n",
              "      <th>5</th>\n",
              "      <th>6</th>\n",
              "      <th>7</th>\n",
              "      <th>8</th>\n",
              "      <th>9</th>\n",
              "      <th>10</th>\n",
              "      <th>11</th>\n",
              "      <th>12</th>\n",
              "      <th>13</th>\n",
              "      <th>14</th>\n",
              "      <th>15</th>\n",
              "      <th>16</th>\n",
              "      <th>17</th>\n",
              "      <th>18</th>\n",
              "      <th>19</th>\n",
              "      <th>20</th>\n",
              "      <th>21</th>\n",
              "      <th>22</th>\n",
              "      <th>23</th>\n",
              "      <th>24</th>\n",
              "      <th>25</th>\n",
              "      <th>26</th>\n",
              "      <th>27</th>\n",
              "      <th>28</th>\n",
              "      <th>29</th>\n",
              "      <th>30</th>\n",
              "      <th>31</th>\n",
              "      <th>32</th>\n",
              "      <th>33</th>\n",
              "      <th>34</th>\n",
              "      <th>35</th>\n",
              "      <th>36</th>\n",
              "      <th>37</th>\n",
              "      <th>38</th>\n",
              "      <th>39</th>\n",
              "      <th>40</th>\n",
              "      <th>41</th>\n",
              "    </tr>\n",
              "  </thead>\n",
              "  <tbody>\n",
              "    <tr>\n",
              "      <th>0</th>\n",
              "      <td>0</td>\n",
              "      <td>tcp</td>\n",
              "      <td>http</td>\n",
              "      <td>SF</td>\n",
              "      <td>215</td>\n",
              "      <td>45076</td>\n",
              "      <td>0</td>\n",
              "      <td>0</td>\n",
              "      <td>0</td>\n",
              "      <td>0</td>\n",
              "      <td>0</td>\n",
              "      <td>1</td>\n",
              "      <td>0</td>\n",
              "      <td>0</td>\n",
              "      <td>0</td>\n",
              "      <td>0</td>\n",
              "      <td>0</td>\n",
              "      <td>0</td>\n",
              "      <td>0</td>\n",
              "      <td>0</td>\n",
              "      <td>0</td>\n",
              "      <td>0</td>\n",
              "      <td>1</td>\n",
              "      <td>1</td>\n",
              "      <td>0.0</td>\n",
              "      <td>0.0</td>\n",
              "      <td>0.0</td>\n",
              "      <td>0.0</td>\n",
              "      <td>1.0</td>\n",
              "      <td>0.0</td>\n",
              "      <td>0.0</td>\n",
              "      <td>0</td>\n",
              "      <td>0</td>\n",
              "      <td>0.0</td>\n",
              "      <td>0.0</td>\n",
              "      <td>0.00</td>\n",
              "      <td>0.0</td>\n",
              "      <td>0.0</td>\n",
              "      <td>0.0</td>\n",
              "      <td>0.0</td>\n",
              "      <td>0.0</td>\n",
              "      <td>normal.</td>\n",
              "    </tr>\n",
              "    <tr>\n",
              "      <th>1</th>\n",
              "      <td>0</td>\n",
              "      <td>tcp</td>\n",
              "      <td>http</td>\n",
              "      <td>SF</td>\n",
              "      <td>162</td>\n",
              "      <td>4528</td>\n",
              "      <td>0</td>\n",
              "      <td>0</td>\n",
              "      <td>0</td>\n",
              "      <td>0</td>\n",
              "      <td>0</td>\n",
              "      <td>1</td>\n",
              "      <td>0</td>\n",
              "      <td>0</td>\n",
              "      <td>0</td>\n",
              "      <td>0</td>\n",
              "      <td>0</td>\n",
              "      <td>0</td>\n",
              "      <td>0</td>\n",
              "      <td>0</td>\n",
              "      <td>0</td>\n",
              "      <td>0</td>\n",
              "      <td>2</td>\n",
              "      <td>2</td>\n",
              "      <td>0.0</td>\n",
              "      <td>0.0</td>\n",
              "      <td>0.0</td>\n",
              "      <td>0.0</td>\n",
              "      <td>1.0</td>\n",
              "      <td>0.0</td>\n",
              "      <td>0.0</td>\n",
              "      <td>1</td>\n",
              "      <td>1</td>\n",
              "      <td>1.0</td>\n",
              "      <td>0.0</td>\n",
              "      <td>1.00</td>\n",
              "      <td>0.0</td>\n",
              "      <td>0.0</td>\n",
              "      <td>0.0</td>\n",
              "      <td>0.0</td>\n",
              "      <td>0.0</td>\n",
              "      <td>normal.</td>\n",
              "    </tr>\n",
              "    <tr>\n",
              "      <th>2</th>\n",
              "      <td>0</td>\n",
              "      <td>tcp</td>\n",
              "      <td>http</td>\n",
              "      <td>SF</td>\n",
              "      <td>236</td>\n",
              "      <td>1228</td>\n",
              "      <td>0</td>\n",
              "      <td>0</td>\n",
              "      <td>0</td>\n",
              "      <td>0</td>\n",
              "      <td>0</td>\n",
              "      <td>1</td>\n",
              "      <td>0</td>\n",
              "      <td>0</td>\n",
              "      <td>0</td>\n",
              "      <td>0</td>\n",
              "      <td>0</td>\n",
              "      <td>0</td>\n",
              "      <td>0</td>\n",
              "      <td>0</td>\n",
              "      <td>0</td>\n",
              "      <td>0</td>\n",
              "      <td>1</td>\n",
              "      <td>1</td>\n",
              "      <td>0.0</td>\n",
              "      <td>0.0</td>\n",
              "      <td>0.0</td>\n",
              "      <td>0.0</td>\n",
              "      <td>1.0</td>\n",
              "      <td>0.0</td>\n",
              "      <td>0.0</td>\n",
              "      <td>2</td>\n",
              "      <td>2</td>\n",
              "      <td>1.0</td>\n",
              "      <td>0.0</td>\n",
              "      <td>0.50</td>\n",
              "      <td>0.0</td>\n",
              "      <td>0.0</td>\n",
              "      <td>0.0</td>\n",
              "      <td>0.0</td>\n",
              "      <td>0.0</td>\n",
              "      <td>normal.</td>\n",
              "    </tr>\n",
              "    <tr>\n",
              "      <th>3</th>\n",
              "      <td>0</td>\n",
              "      <td>tcp</td>\n",
              "      <td>http</td>\n",
              "      <td>SF</td>\n",
              "      <td>233</td>\n",
              "      <td>2032</td>\n",
              "      <td>0</td>\n",
              "      <td>0</td>\n",
              "      <td>0</td>\n",
              "      <td>0</td>\n",
              "      <td>0</td>\n",
              "      <td>1</td>\n",
              "      <td>0</td>\n",
              "      <td>0</td>\n",
              "      <td>0</td>\n",
              "      <td>0</td>\n",
              "      <td>0</td>\n",
              "      <td>0</td>\n",
              "      <td>0</td>\n",
              "      <td>0</td>\n",
              "      <td>0</td>\n",
              "      <td>0</td>\n",
              "      <td>2</td>\n",
              "      <td>2</td>\n",
              "      <td>0.0</td>\n",
              "      <td>0.0</td>\n",
              "      <td>0.0</td>\n",
              "      <td>0.0</td>\n",
              "      <td>1.0</td>\n",
              "      <td>0.0</td>\n",
              "      <td>0.0</td>\n",
              "      <td>3</td>\n",
              "      <td>3</td>\n",
              "      <td>1.0</td>\n",
              "      <td>0.0</td>\n",
              "      <td>0.33</td>\n",
              "      <td>0.0</td>\n",
              "      <td>0.0</td>\n",
              "      <td>0.0</td>\n",
              "      <td>0.0</td>\n",
              "      <td>0.0</td>\n",
              "      <td>normal.</td>\n",
              "    </tr>\n",
              "    <tr>\n",
              "      <th>4</th>\n",
              "      <td>0</td>\n",
              "      <td>tcp</td>\n",
              "      <td>http</td>\n",
              "      <td>SF</td>\n",
              "      <td>239</td>\n",
              "      <td>486</td>\n",
              "      <td>0</td>\n",
              "      <td>0</td>\n",
              "      <td>0</td>\n",
              "      <td>0</td>\n",
              "      <td>0</td>\n",
              "      <td>1</td>\n",
              "      <td>0</td>\n",
              "      <td>0</td>\n",
              "      <td>0</td>\n",
              "      <td>0</td>\n",
              "      <td>0</td>\n",
              "      <td>0</td>\n",
              "      <td>0</td>\n",
              "      <td>0</td>\n",
              "      <td>0</td>\n",
              "      <td>0</td>\n",
              "      <td>3</td>\n",
              "      <td>3</td>\n",
              "      <td>0.0</td>\n",
              "      <td>0.0</td>\n",
              "      <td>0.0</td>\n",
              "      <td>0.0</td>\n",
              "      <td>1.0</td>\n",
              "      <td>0.0</td>\n",
              "      <td>0.0</td>\n",
              "      <td>4</td>\n",
              "      <td>4</td>\n",
              "      <td>1.0</td>\n",
              "      <td>0.0</td>\n",
              "      <td>0.25</td>\n",
              "      <td>0.0</td>\n",
              "      <td>0.0</td>\n",
              "      <td>0.0</td>\n",
              "      <td>0.0</td>\n",
              "      <td>0.0</td>\n",
              "      <td>normal.</td>\n",
              "    </tr>\n",
              "  </tbody>\n",
              "</table>\n",
              "</div>\n",
              "    <div class=\"colab-df-buttons\">\n",
              "\n",
              "  <div class=\"colab-df-container\">\n",
              "    <button class=\"colab-df-convert\" onclick=\"convertToInteractive('df-f969a225-3891-4cbc-b4c1-47ee4eb6b1bc')\"\n",
              "            title=\"Convert this dataframe to an interactive table.\"\n",
              "            style=\"display:none;\">\n",
              "\n",
              "  <svg xmlns=\"http://www.w3.org/2000/svg\" height=\"24px\" viewBox=\"0 -960 960 960\">\n",
              "    <path d=\"M120-120v-720h720v720H120Zm60-500h600v-160H180v160Zm220 220h160v-160H400v160Zm0 220h160v-160H400v160ZM180-400h160v-160H180v160Zm440 0h160v-160H620v160ZM180-180h160v-160H180v160Zm440 0h160v-160H620v160Z\"/>\n",
              "  </svg>\n",
              "    </button>\n",
              "\n",
              "  <style>\n",
              "    .colab-df-container {\n",
              "      display:flex;\n",
              "      gap: 12px;\n",
              "    }\n",
              "\n",
              "    .colab-df-convert {\n",
              "      background-color: #E8F0FE;\n",
              "      border: none;\n",
              "      border-radius: 50%;\n",
              "      cursor: pointer;\n",
              "      display: none;\n",
              "      fill: #1967D2;\n",
              "      height: 32px;\n",
              "      padding: 0 0 0 0;\n",
              "      width: 32px;\n",
              "    }\n",
              "\n",
              "    .colab-df-convert:hover {\n",
              "      background-color: #E2EBFA;\n",
              "      box-shadow: 0px 1px 2px rgba(60, 64, 67, 0.3), 0px 1px 3px 1px rgba(60, 64, 67, 0.15);\n",
              "      fill: #174EA6;\n",
              "    }\n",
              "\n",
              "    .colab-df-buttons div {\n",
              "      margin-bottom: 4px;\n",
              "    }\n",
              "\n",
              "    [theme=dark] .colab-df-convert {\n",
              "      background-color: #3B4455;\n",
              "      fill: #D2E3FC;\n",
              "    }\n",
              "\n",
              "    [theme=dark] .colab-df-convert:hover {\n",
              "      background-color: #434B5C;\n",
              "      box-shadow: 0px 1px 3px 1px rgba(0, 0, 0, 0.15);\n",
              "      filter: drop-shadow(0px 1px 2px rgba(0, 0, 0, 0.3));\n",
              "      fill: #FFFFFF;\n",
              "    }\n",
              "  </style>\n",
              "\n",
              "    <script>\n",
              "      const buttonEl =\n",
              "        document.querySelector('#df-f969a225-3891-4cbc-b4c1-47ee4eb6b1bc button.colab-df-convert');\n",
              "      buttonEl.style.display =\n",
              "        google.colab.kernel.accessAllowed ? 'block' : 'none';\n",
              "\n",
              "      async function convertToInteractive(key) {\n",
              "        const element = document.querySelector('#df-f969a225-3891-4cbc-b4c1-47ee4eb6b1bc');\n",
              "        const dataTable =\n",
              "          await google.colab.kernel.invokeFunction('convertToInteractive',\n",
              "                                                    [key], {});\n",
              "        if (!dataTable) return;\n",
              "\n",
              "        const docLinkHtml = 'Like what you see? Visit the ' +\n",
              "          '<a target=\"_blank\" href=https://colab.research.google.com/notebooks/data_table.ipynb>data table notebook</a>'\n",
              "          + ' to learn more about interactive tables.';\n",
              "        element.innerHTML = '';\n",
              "        dataTable['output_type'] = 'display_data';\n",
              "        await google.colab.output.renderOutput(dataTable, element);\n",
              "        const docLink = document.createElement('div');\n",
              "        docLink.innerHTML = docLinkHtml;\n",
              "        element.appendChild(docLink);\n",
              "      }\n",
              "    </script>\n",
              "  </div>\n",
              "\n",
              "\n",
              "<div id=\"df-06da2d47-1a1f-4f37-96e3-0bac5305a773\">\n",
              "  <button class=\"colab-df-quickchart\" onclick=\"quickchart('df-06da2d47-1a1f-4f37-96e3-0bac5305a773')\"\n",
              "            title=\"Suggest charts\"\n",
              "            style=\"display:none;\">\n",
              "\n",
              "<svg xmlns=\"http://www.w3.org/2000/svg\" height=\"24px\"viewBox=\"0 0 24 24\"\n",
              "     width=\"24px\">\n",
              "    <g>\n",
              "        <path d=\"M19 3H5c-1.1 0-2 .9-2 2v14c0 1.1.9 2 2 2h14c1.1 0 2-.9 2-2V5c0-1.1-.9-2-2-2zM9 17H7v-7h2v7zm4 0h-2V7h2v10zm4 0h-2v-4h2v4z\"/>\n",
              "    </g>\n",
              "</svg>\n",
              "  </button>\n",
              "\n",
              "<style>\n",
              "  .colab-df-quickchart {\n",
              "      --bg-color: #E8F0FE;\n",
              "      --fill-color: #1967D2;\n",
              "      --hover-bg-color: #E2EBFA;\n",
              "      --hover-fill-color: #174EA6;\n",
              "      --disabled-fill-color: #AAA;\n",
              "      --disabled-bg-color: #DDD;\n",
              "  }\n",
              "\n",
              "  [theme=dark] .colab-df-quickchart {\n",
              "      --bg-color: #3B4455;\n",
              "      --fill-color: #D2E3FC;\n",
              "      --hover-bg-color: #434B5C;\n",
              "      --hover-fill-color: #FFFFFF;\n",
              "      --disabled-bg-color: #3B4455;\n",
              "      --disabled-fill-color: #666;\n",
              "  }\n",
              "\n",
              "  .colab-df-quickchart {\n",
              "    background-color: var(--bg-color);\n",
              "    border: none;\n",
              "    border-radius: 50%;\n",
              "    cursor: pointer;\n",
              "    display: none;\n",
              "    fill: var(--fill-color);\n",
              "    height: 32px;\n",
              "    padding: 0;\n",
              "    width: 32px;\n",
              "  }\n",
              "\n",
              "  .colab-df-quickchart:hover {\n",
              "    background-color: var(--hover-bg-color);\n",
              "    box-shadow: 0 1px 2px rgba(60, 64, 67, 0.3), 0 1px 3px 1px rgba(60, 64, 67, 0.15);\n",
              "    fill: var(--button-hover-fill-color);\n",
              "  }\n",
              "\n",
              "  .colab-df-quickchart-complete:disabled,\n",
              "  .colab-df-quickchart-complete:disabled:hover {\n",
              "    background-color: var(--disabled-bg-color);\n",
              "    fill: var(--disabled-fill-color);\n",
              "    box-shadow: none;\n",
              "  }\n",
              "\n",
              "  .colab-df-spinner {\n",
              "    border: 2px solid var(--fill-color);\n",
              "    border-color: transparent;\n",
              "    border-bottom-color: var(--fill-color);\n",
              "    animation:\n",
              "      spin 1s steps(1) infinite;\n",
              "  }\n",
              "\n",
              "  @keyframes spin {\n",
              "    0% {\n",
              "      border-color: transparent;\n",
              "      border-bottom-color: var(--fill-color);\n",
              "      border-left-color: var(--fill-color);\n",
              "    }\n",
              "    20% {\n",
              "      border-color: transparent;\n",
              "      border-left-color: var(--fill-color);\n",
              "      border-top-color: var(--fill-color);\n",
              "    }\n",
              "    30% {\n",
              "      border-color: transparent;\n",
              "      border-left-color: var(--fill-color);\n",
              "      border-top-color: var(--fill-color);\n",
              "      border-right-color: var(--fill-color);\n",
              "    }\n",
              "    40% {\n",
              "      border-color: transparent;\n",
              "      border-right-color: var(--fill-color);\n",
              "      border-top-color: var(--fill-color);\n",
              "    }\n",
              "    60% {\n",
              "      border-color: transparent;\n",
              "      border-right-color: var(--fill-color);\n",
              "    }\n",
              "    80% {\n",
              "      border-color: transparent;\n",
              "      border-right-color: var(--fill-color);\n",
              "      border-bottom-color: var(--fill-color);\n",
              "    }\n",
              "    90% {\n",
              "      border-color: transparent;\n",
              "      border-bottom-color: var(--fill-color);\n",
              "    }\n",
              "  }\n",
              "</style>\n",
              "\n",
              "  <script>\n",
              "    async function quickchart(key) {\n",
              "      const quickchartButtonEl =\n",
              "        document.querySelector('#' + key + ' button');\n",
              "      quickchartButtonEl.disabled = true;  // To prevent multiple clicks.\n",
              "      quickchartButtonEl.classList.add('colab-df-spinner');\n",
              "      try {\n",
              "        const charts = await google.colab.kernel.invokeFunction(\n",
              "            'suggestCharts', [key], {});\n",
              "      } catch (error) {\n",
              "        console.error('Error during call to suggestCharts:', error);\n",
              "      }\n",
              "      quickchartButtonEl.classList.remove('colab-df-spinner');\n",
              "      quickchartButtonEl.classList.add('colab-df-quickchart-complete');\n",
              "    }\n",
              "    (() => {\n",
              "      let quickchartButtonEl =\n",
              "        document.querySelector('#df-06da2d47-1a1f-4f37-96e3-0bac5305a773 button');\n",
              "      quickchartButtonEl.style.display =\n",
              "        google.colab.kernel.accessAllowed ? 'block' : 'none';\n",
              "    })();\n",
              "  </script>\n",
              "</div>\n",
              "\n",
              "    </div>\n",
              "  </div>\n"
            ],
            "application/vnd.google.colaboratory.intrinsic+json": {
              "type": "dataframe",
              "variable_name": "data"
            }
          },
          "metadata": {},
          "execution_count": 11
        }
      ]
    },
    {
      "cell_type": "code",
      "source": [
        "#df = data.sample(n=5000, random_state=42)"
      ],
      "metadata": {
        "id": "Zk9Wh2wI1uOD"
      },
      "id": "Zk9Wh2wI1uOD",
      "execution_count": 10,
      "outputs": []
    },
    {
      "cell_type": "code",
      "source": [
        "print(data.shape)"
      ],
      "metadata": {
        "colab": {
          "base_uri": "https://localhost:8080/"
        },
        "id": "t-d1EaN0syyM",
        "outputId": "2eee12a7-8549-4e5a-fda7-ddc342865490"
      },
      "id": "t-d1EaN0syyM",
      "execution_count": 12,
      "outputs": [
        {
          "output_type": "stream",
          "name": "stdout",
          "text": [
            "(50000, 42)\n"
          ]
        }
      ]
    },
    {
      "cell_type": "code",
      "source": [
        "pd.set_option('display.max_columns', None)  # Display all columns\n",
        "print(data.head())"
      ],
      "metadata": {
        "colab": {
          "base_uri": "https://localhost:8080/"
        },
        "id": "lQGRAqmF2POm",
        "outputId": "3e9e4086-491b-40df-db58-0eb13b82d902"
      },
      "id": "lQGRAqmF2POm",
      "execution_count": 13,
      "outputs": [
        {
          "output_type": "stream",
          "name": "stdout",
          "text": [
            "   0    1     2   3    4      5   6   7   8   9   10  11  12  13  14  15  16  \\\n",
            "0   0  tcp  http  SF  215  45076   0   0   0   0   0   1   0   0   0   0   0   \n",
            "1   0  tcp  http  SF  162   4528   0   0   0   0   0   1   0   0   0   0   0   \n",
            "2   0  tcp  http  SF  236   1228   0   0   0   0   0   1   0   0   0   0   0   \n",
            "3   0  tcp  http  SF  233   2032   0   0   0   0   0   1   0   0   0   0   0   \n",
            "4   0  tcp  http  SF  239    486   0   0   0   0   0   1   0   0   0   0   0   \n",
            "\n",
            "   17  18  19  20  21  22  23   24   25   26   27   28   29   30  31  32   33  \\\n",
            "0   0   0   0   0   0   1   1  0.0  0.0  0.0  0.0  1.0  0.0  0.0   0   0  0.0   \n",
            "1   0   0   0   0   0   2   2  0.0  0.0  0.0  0.0  1.0  0.0  0.0   1   1  1.0   \n",
            "2   0   0   0   0   0   1   1  0.0  0.0  0.0  0.0  1.0  0.0  0.0   2   2  1.0   \n",
            "3   0   0   0   0   0   2   2  0.0  0.0  0.0  0.0  1.0  0.0  0.0   3   3  1.0   \n",
            "4   0   0   0   0   0   3   3  0.0  0.0  0.0  0.0  1.0  0.0  0.0   4   4  1.0   \n",
            "\n",
            "    34    35   36   37   38   39   40       41  \n",
            "0  0.0  0.00  0.0  0.0  0.0  0.0  0.0  normal.  \n",
            "1  0.0  1.00  0.0  0.0  0.0  0.0  0.0  normal.  \n",
            "2  0.0  0.50  0.0  0.0  0.0  0.0  0.0  normal.  \n",
            "3  0.0  0.33  0.0  0.0  0.0  0.0  0.0  normal.  \n",
            "4  0.0  0.25  0.0  0.0  0.0  0.0  0.0  normal.  \n"
          ]
        }
      ]
    },
    {
      "cell_type": "markdown",
      "source": [
        "###**Question 1:**"
      ],
      "metadata": {
        "id": "2Sa7OSrgTo7O"
      },
      "id": "2Sa7OSrgTo7O"
    },
    {
      "cell_type": "code",
      "source": [
        "print(data.iloc[:, -1].unique())  # Check unique values of the last column\n"
      ],
      "metadata": {
        "colab": {
          "base_uri": "https://localhost:8080/"
        },
        "id": "YOQHofR1smwu",
        "outputId": "7683fe29-2b8b-42de-c597-f2ccef11294e"
      },
      "id": "YOQHofR1smwu",
      "execution_count": 14,
      "outputs": [
        {
          "output_type": "stream",
          "name": "stdout",
          "text": [
            "['normal.' 'buffer_overflow.' 'loadmodule.' 'perl.']\n"
          ]
        }
      ]
    },
    {
      "cell_type": "code",
      "source": [
        "import pandas as pd\n",
        "from sklearn.model_selection import train_test_split\n",
        "from sklearn.ensemble import RandomForestClassifier\n",
        "from sklearn.svm import SVC\n",
        "from sklearn.tree import DecisionTreeClassifier\n",
        "from sklearn.metrics import accuracy_score\n",
        "from sklearn.preprocessing import LabelEncoder"
      ],
      "metadata": {
        "id": "LRPUlNjQUS1C"
      },
      "id": "LRPUlNjQUS1C",
      "execution_count": 15,
      "outputs": []
    },
    {
      "cell_type": "code",
      "source": [
        "# Encode columns 1, 2, 3 with One-Hot Encoding\n",
        "data = pd.get_dummies(data, columns=[1, 2, 3], drop_first=True)\n",
        "\n",
        "# Encode the target column (column 41) with Label Encoding\n",
        "label_encoder = LabelEncoder()\n",
        "data[41] = label_encoder.fit_transform(data[41])\n",
        "\n",
        "# Save label mappings for reference\n",
        "label_mapping = dict(zip(label_encoder.classes_, label_encoder.transform(label_encoder.classes_)))\n",
        "print(\"Label Mappings:\", label_mapping)"
      ],
      "metadata": {
        "colab": {
          "base_uri": "https://localhost:8080/"
        },
        "id": "7lSdAXsM36ji",
        "outputId": "1479c4bb-e7e1-4e9e-c786-417afd98e89c"
      },
      "id": "7lSdAXsM36ji",
      "execution_count": 16,
      "outputs": [
        {
          "output_type": "stream",
          "name": "stdout",
          "text": [
            "Label Mappings: {'buffer_overflow.': 0, 'loadmodule.': 1, 'normal.': 2, 'perl.': 3}\n"
          ]
        }
      ]
    },
    {
      "cell_type": "code",
      "source": [
        "X = data.drop(columns=[41])  # Features\n",
        "y = data[41]                # Target\n",
        "\n",
        "#splitting\n",
        "X_train, X_temp, y_train, y_temp = train_test_split(X, y, test_size=0.3, random_state=42)\n",
        "X_val, X_test, y_val, y_test = train_test_split(X_temp, y_temp, test_size=0.5, random_state=42)\n",
        "\n",
        "print(\"Train size:\", X_train.shape)\n",
        "print(\"Validation size:\", X_val.shape)\n",
        "print(\"Test size:\", X_test.shape)"
      ],
      "metadata": {
        "colab": {
          "base_uri": "https://localhost:8080/"
        },
        "id": "LPzwYkeN36gV",
        "outputId": "80e0cd86-3e77-45f9-8390-7c93db146bc8"
      },
      "id": "LPzwYkeN36gV",
      "execution_count": 17,
      "outputs": [
        {
          "output_type": "stream",
          "name": "stdout",
          "text": [
            "Train size: (35000, 57)\n",
            "Validation size: (7500, 57)\n",
            "Test size: (7500, 57)\n"
          ]
        }
      ]
    },
    {
      "cell_type": "code",
      "source": [
        "from sklearn.tree import DecisionTreeClassifier\n",
        "from sklearn.svm import SVC\n",
        "from sklearn.ensemble import RandomForestClassifier\n",
        "from sklearn.model_selection import GridSearchCV\n",
        "from sklearn.metrics import accuracy_score"
      ],
      "metadata": {
        "id": "2EvKVaH336dF"
      },
      "id": "2EvKVaH336dF",
      "execution_count": 18,
      "outputs": []
    },
    {
      "cell_type": "code",
      "source": [
        "print(f\"X_train shape: {X_train.shape}, y_train shape: {y_train.shape}\")\n",
        "print(f\"X_val shape: {X_val.shape}, y_val shape: {y_val.shape}\")\n",
        "print(f\"X_test shape: {X_test.shape}, y_test shape: {y_test.shape}\")"
      ],
      "metadata": {
        "colab": {
          "base_uri": "https://localhost:8080/"
        },
        "id": "1zkaJcpX6Tgu",
        "outputId": "1a5fd488-383f-4660-ba11-97ecb33244e9"
      },
      "id": "1zkaJcpX6Tgu",
      "execution_count": 19,
      "outputs": [
        {
          "output_type": "stream",
          "name": "stdout",
          "text": [
            "X_train shape: (35000, 57), y_train shape: (35000,)\n",
            "X_val shape: (7500, 57), y_val shape: (7500,)\n",
            "X_test shape: (7500, 57), y_test shape: (7500,)\n"
          ]
        }
      ]
    },
    {
      "cell_type": "code",
      "source": [
        "# Ensure column names are consistent\n",
        "X_train.columns = X_train.columns.astype(str)\n",
        "X_val.columns = X_val.columns.astype(str)\n",
        "X_test.columns = X_test.columns.astype(str)\n",
        "\n",
        "# Train the DecisionTreeClassifier\n",
        "clf = DecisionTreeClassifier(max_depth=10, min_samples_split=2)\n",
        "clf.fit(X_train, y_train)\n",
        "val_accuracy = accuracy_score(y_val, clf.predict(X_val))\n",
        "print(f\"DecisionTreeClassifier trained. Validation Accuracy: {val_accuracy}\")\n"
      ],
      "metadata": {
        "colab": {
          "base_uri": "https://localhost:8080/"
        },
        "id": "fE1RJy6m6W6F",
        "outputId": "f41afc73-176c-406e-eca5-0337cc4d4296"
      },
      "id": "fE1RJy6m6W6F",
      "execution_count": 20,
      "outputs": [
        {
          "output_type": "stream",
          "name": "stdout",
          "text": [
            "DecisionTreeClassifier trained. Validation Accuracy: 0.9998666666666667\n"
          ]
        }
      ]
    },
    {
      "cell_type": "code",
      "source": [
        "# Support Vector Machine (SVM)\n",
        "clf_svm = SVC(probability=True)\n",
        "clf_svm.fit(X_train, y_train)\n",
        "svm_val_accuracy = accuracy_score(y_val, clf_svm.predict(X_val))\n",
        "print(f\"SVM trained. Validation Accuracy: {svm_val_accuracy}\")\n"
      ],
      "metadata": {
        "colab": {
          "base_uri": "https://localhost:8080/"
        },
        "id": "1j4E1NL69GZt",
        "outputId": "3cd21f58-f227-46c3-9c77-d8ada2c8aba5"
      },
      "id": "1j4E1NL69GZt",
      "execution_count": 21,
      "outputs": [
        {
          "output_type": "stream",
          "name": "stdout",
          "text": [
            "SVM trained. Validation Accuracy: 0.9998666666666667\n"
          ]
        }
      ]
    },
    {
      "cell_type": "code",
      "source": [
        "# RandomForestClassifier\n",
        "clf_rf = RandomForestClassifier(n_estimators=100, max_depth=10)\n",
        "clf_rf.fit(X_train, y_train)\n",
        "rf_val_accuracy = accuracy_score(y_val, clf_rf.predict(X_val))\n",
        "print(f\"RandomForestClassifier trained. Validation Accuracy: {rf_val_accuracy}\")"
      ],
      "metadata": {
        "colab": {
          "base_uri": "https://localhost:8080/"
        },
        "id": "UXECoN7c9JNs",
        "outputId": "1e1d27e1-c4c2-413c-b2cd-72ac3d0441a5"
      },
      "id": "UXECoN7c9JNs",
      "execution_count": 22,
      "outputs": [
        {
          "output_type": "stream",
          "name": "stdout",
          "text": [
            "RandomForestClassifier trained. Validation Accuracy: 0.9998666666666667\n"
          ]
        }
      ]
    },
    {
      "cell_type": "code",
      "source": [
        "# Define hyperparameter grids with reduced parameters\n",
        "param_grids = {\n",
        "    \"DecisionTree\": {\"max_depth\": [10, 20], \"min_samples_split\": [2, 5]},\n",
        "    \"SVM\": {\"C\": [0.1, 1], \"kernel\": [\"linear\"]},\n",
        "    \"RandomForest\": {\"n_estimators\": [50, 100], \"max_depth\": [10, 20]}\n",
        "}\n",
        "\n",
        "best_models = {}\n",
        "\n",
        "# Hyperparameter tuning for each classifier\n",
        "for model_name, params in param_grids.items():\n",
        "    if model_name == \"DecisionTree\":\n",
        "        model = DecisionTreeClassifier()\n",
        "    elif model_name == \"SVM\":\n",
        "        model = SVC(probability=True)\n",
        "    elif model_name == \"RandomForest\":\n",
        "        model = RandomForestClassifier()\n",
        "\n",
        "    grid = GridSearchCV(model, params, cv=2, scoring=\"accuracy\", n_jobs=-1)  # Parallel and 2-fold cross-validation\n",
        "    grid.fit(X_train, y_train)\n",
        "\n",
        "    # Store best model\n",
        "    best_models[model_name] = grid.best_estimator_\n",
        "    print(f\"{model_name} best params: {grid.best_params_}\")\n",
        "\n",
        "# Evaluate best models on test set\n",
        "for model_name, model in best_models.items():\n",
        "    test_accuracy = accuracy_score(y_test, model.predict(X_test))\n",
        "    print(f\"{model_name} Test Accuracy: {test_accuracy}\")\n"
      ],
      "metadata": {
        "colab": {
          "base_uri": "https://localhost:8080/"
        },
        "id": "2Z4PnAyQ36Ze",
        "outputId": "78e9238e-c0ea-4a04-b4ff-c6b6d0fd2ec4"
      },
      "id": "2Z4PnAyQ36Ze",
      "execution_count": 24,
      "outputs": [
        {
          "output_type": "stream",
          "name": "stderr",
          "text": [
            "/usr/local/lib/python3.10/dist-packages/sklearn/model_selection/_split.py:776: UserWarning: The least populated class in y has only 1 members, which is less than n_splits=2.\n",
            "  warnings.warn(\n"
          ]
        },
        {
          "output_type": "stream",
          "name": "stdout",
          "text": [
            "DecisionTree best params: {'max_depth': 10, 'min_samples_split': 2}\n"
          ]
        },
        {
          "output_type": "stream",
          "name": "stderr",
          "text": [
            "/usr/local/lib/python3.10/dist-packages/sklearn/model_selection/_split.py:776: UserWarning: The least populated class in y has only 1 members, which is less than n_splits=2.\n",
            "  warnings.warn(\n"
          ]
        },
        {
          "output_type": "stream",
          "name": "stdout",
          "text": [
            "SVM best params: {'C': 0.1, 'kernel': 'linear'}\n"
          ]
        },
        {
          "output_type": "stream",
          "name": "stderr",
          "text": [
            "/usr/local/lib/python3.10/dist-packages/sklearn/model_selection/_split.py:776: UserWarning: The least populated class in y has only 1 members, which is less than n_splits=2.\n",
            "  warnings.warn(\n"
          ]
        },
        {
          "output_type": "stream",
          "name": "stdout",
          "text": [
            "RandomForest best params: {'max_depth': 10, 'n_estimators': 50}\n",
            "DecisionTree Test Accuracy: 0.9998666666666667\n",
            "SVM Test Accuracy: 0.9997333333333334\n",
            "RandomForest Test Accuracy: 0.9998666666666667\n"
          ]
        }
      ]
    },
    {
      "cell_type": "code",
      "source": [
        "from sklearn.ensemble import BaggingClassifier\n",
        "\n",
        "# Use the best model (RandomForest) from earlier\n",
        "base_model = best_models[\"RandomForest\"]\n",
        "\n",
        "# Initialize BaggingClassifier with the RandomForest model\n",
        "ensemble = BaggingClassifier(estimator=base_model, n_estimators=25, random_state=42)\n",
        "ensemble.fit(X_train, y_train)\n",
        "\n",
        "# Evaluate on test set\n",
        "ensemble_preds = ensemble.predict(X_test)\n",
        "ensemble_accuracy = accuracy_score(y_test, ensemble_preds)\n",
        "print(f\"Ensemble Test Accuracy: {ensemble_accuracy}\")\n",
        "\n",
        "# Identify top and bottom 10% predictions based on uncertainty\n",
        "probs = ensemble.predict_proba(X_test)  # Get probabilities for each class\n",
        "uncertainty = probs.max(axis=1)  # Uncertainty is 1 - max probability (confidence)\n",
        "sorted_indices = uncertainty.argsort()  # Sort based on uncertainty\n",
        "\n",
        "# Top 10% (least certain predictions)\n",
        "top_10_percent_indices = sorted_indices[:len(sorted_indices) // 10]\n",
        "bottom_10_percent_indices = sorted_indices[-len(sorted_indices) // 10:]\n",
        "\n",
        "# Optionally, print or inspect the top and bottom predictions\n",
        "print(f\"Top 10% Uncertainty Indices: {top_10_percent_indices}\")\n",
        "print(f\"Bottom 10% Uncertainty Indices: {bottom_10_percent_indices}\")\n"
      ],
      "metadata": {
        "colab": {
          "base_uri": "https://localhost:8080/"
        },
        "id": "VTRIc30336Pq",
        "outputId": "52a6b214-8b04-4d39-cbfb-f7f297ea9f41"
      },
      "id": "VTRIc30336Pq",
      "execution_count": 28,
      "outputs": [
        {
          "output_type": "stream",
          "name": "stdout",
          "text": [
            "Ensemble Test Accuracy: 0.9998666666666667\n",
            "Top 10% Uncertainty Indices: [4614 2288 1419 7428 1101 5592 1724 2140 5918 3684  749 5644  431 6821\n",
            " 7166 1946 5488 6152 2319 7199 7193 5022 5000 4999 4998 5030 4997 5031\n",
            " 4996 4995 4994 4993 4992 4991 4990 5032 4989 4988 4987 5033 5034 5029\n",
            " 5001 5003 5023 5021 5020 5019 5018 5017 5024 5016 5015 5014 5013 5002\n",
            " 5012 5026 5027 5011 5010 5009 5007 5028 5006 5005 5004 5025 5008    0\n",
            " 4985 4956 4955 4954 4953 4952 4951 4950 4949 4948 4947 4946 4945 4944\n",
            " 4943 4942 4941 4940 4939 4938 4937 4936 4935 4934 4933 4932 4957 4986\n",
            " 4958 4960 4984 4983 5035 4982 4981 4980 4979 4978 4977 4976 4975 4974\n",
            " 4973 4972 4971 4970 4969 4968 4967 4966 4965 4964 4963 4962 4961 4959\n",
            " 5036 5042 5038 5122 5121 5120 5119 5118 5117 5116 5115 5114 5113 5112\n",
            " 5111 5110 5109 5108 5107 5106 5105 5104 5103 5102 5101 5100 5099 5098\n",
            " 5123 5097 5124 5126 5151 5150 5149 5148 5147 5146 5145 5144 5143 5142\n",
            " 5141 5140 5139 5138 5137 5136 5135 5134 5133 5132 5131 5130 5129 5128\n",
            " 5127 5125 5096 5095 5094 5063 5062 5061 5060 5059 5058 5057 5056 5055\n",
            " 5054 5053 5052 5051 5050 5049 5048 5047 5046 5045 5044 5043 4931 5041\n",
            " 5040 5039 5064 5065 5066 5067 5093 5092 5091 5090 5089 5088 5087 5086\n",
            " 5085 5084 5083 5082 5037 5081 5079 5078 5077 5076 5075 5074 5073 5072\n",
            " 5071 5070 5069 5068 5080 4930 4924 4928 4779 4778 4777 4776 4775 4774\n",
            " 4773 4772 4771 4770 4769 4768 4767 4766 4765 4764 4763 4762 4761 4760\n",
            " 4759 4758 4757 4756 4755 4780 4781 4782 4783 4809 4808 4807 4806 4805\n",
            " 4804 4803 4802 4801 4800 4799 4798 4754 4797 4795 4794 4793 4792 4791\n",
            " 4790 4789 4788 4787 4786 4785 4784 4796 4810 4753 4751 4720 4719 4718\n",
            " 4717 4716 4715 4714 4713 4712 4711 4710 4709 4708 4707 4706 4705 4704\n",
            " 4703 4702 4701 4700 4699 4698 4697 4696 4721 4722 4723 4724 4750 4749\n",
            " 4748 4747 4746 4745 4744 4743 4742 4741 4740 4739 4752 4738 4736 4735\n",
            " 4734 4733 4732 4731 4730 4729 4728 4727 4726 4725 4737 4929 4811 4813\n",
            " 4897 4896 4895 4894 4893 4892 4891 4890 4889 4888 4887 4886 4885 4884\n",
            " 4883 4882 4881 4880 4879 4878 4877 4876 4875 4874 4873 4898 4899 4900\n",
            " 4901 4927 4926 4925 5152 4923 4922 4921 4920 4919 4918 4917 4916 4872\n",
            " 4915 4913 4912 4911 4910 4909 4908 4907 4906 4905 4904 4903 4902 4914\n",
            " 4812 4871 4869 4838 4837 4836 4835 4834 4833 4832 4831 4830 4829 4828\n",
            " 4827 4826 4825 4824 4823 4822 4821 4820 4819 4818 4817 4816 4815 4814\n",
            " 4839 4840 4841 4842 4868 4867 4866 4865 4864 4863 4862 4861 4860 4859\n",
            " 4858 4857 4870 4856 4854 4853 4852 4851 4850 4849 4848 4847 4846 4845\n",
            " 4844 4843 4855 5153 5161 5155 5471 5470 5469 5468 5467 5466 5465 5464\n",
            " 5463 5462 5461 5460 5459 5458 5457 5456 5455 5454 5453 5452 5451 5450\n",
            " 5449 5448 5447 5472 5446 5473 5475 5501 5500 5499 5498 5497 5496 5495\n",
            " 5494 5493 5492 5491 5490 5489 5487 5486 5485 5484 5483 5482 5481 5480\n",
            " 5479 5478 5477 5476 5474 5502 5445 5443 5413 5412 5411 5410 5409 5408\n",
            " 5407 5406 5405 5404 5403 5402 5401 5400 5399 5398 5397 5396 5395 5394\n",
            " 5393 5392 5391 5390 5389 5414 5444 5415 5417 5442 5441 5440 5439 5438\n",
            " 5437 5436 5435 5434 5433 5432 5431 5430 5429 5428 5427 5426 5425 5424\n",
            " 5423 5422 5421 5420 5419 5418 5416 5388 5503 5505 5588 5587 5586 5585\n",
            " 5584 5583 5582 5581 5580 5579 5578 5577 5576 5575 5574 5573 5572 5571\n",
            " 5570 5569 5568 5567 5566 5565 5564 5589 5563 5590 5593 5618 5617 5616\n",
            " 5615 5614 5613 5612 5611 5610 5609 5608 5607 5606 5605 5604 5603 5602\n",
            " 5601 5600 5599 5598 5597 5596 5595 5594 5591 5504 5562 5560 5530 5529\n",
            " 5528 5527 5526 5525 5524 5523 5522 5521 5520 5519 5518 5517 5516 5515\n",
            " 5514 5513 5512 5511 5510 5509 5508 5507 5506 5531 5561 5532 5534 5559\n",
            " 5558 5557 5556 5555 5554 5553 5552 5551 5550 5549 5548 5547 5546 5545\n",
            " 5544 5543 5542 5541 5540 5539 5538 5537 5536 5535 5533 5387 5386 5385\n",
            " 5238 5237 5236 5235 5234 5233 5232 5231 5230 5229 5228 5227 5226 5225\n",
            " 5224 5223 5222 5221 5220 5219 5218 5217 5216 5215 5214 5239 5213 5240\n",
            " 5242 5267 5266 5265 5264 5263 5262 5261]\n",
            "Bottom 10% Uncertainty Indices: [2246 2245 2244 2243 2242 2241 2240 2239 2238 2237 2236 2235 2234 2233\n",
            " 2232 2257 2258 2259 2260 2286 2285 2284 2283 2282 2281 2280 2279 2278\n",
            " 2277 2276 2275 2230 2274 2272 2271 2270 2269 2268 2267 2266 2265 2264\n",
            " 2263 2262 2261 2273 2347 2112 2110 1963 1962 1961 1960 1959 1958 1957\n",
            " 1956 1955 1954 1953 1952 1951 1950 1949 1948 1947 1945 1944 1943 1942\n",
            " 1941 1940 1939 1938 1964 1937 1965 1967 1992 1991 1990 1989 1988 1987\n",
            " 1986 1985 1984 1983 1982 1981 1980 1979 1978 1977 1976 1975 1974 1973\n",
            " 1972 1971 1970 1969 1968 1966 1936 1935 1934 1903 1902 1901 1900 1899\n",
            " 1898 1897 1896 1895 1894 1893 1892 1891 1890 1889 1888 1887 1886 1885\n",
            " 1884 1883 1882 1881 1880 1879 1904 1905 1906 1907 1933 1932 1931 1930\n",
            " 1929 1928 1927 1926 1925 1924 1923 1922 1993 1921 1919 1918 1917 1916\n",
            " 1915 1914 1913 1912 1911 1910 1909 1908 1920 2111 1994 1996 2080 2079\n",
            " 2078 2077 2076 2075 2074 2073 2072 2071 2070 2069 2068 2067 2066 2065\n",
            " 2064 2063 2062 2061 2060 2059 2058 2057 2056 2081 2055 2082 2084 2109\n",
            " 2108 2107 2106 2105 2104 2103 2102 2101 2100 2099 2098 2097 2096 2095\n",
            " 2094 2093 2092 2091 2090 2089 2088 2087 2086 2085 2083 2054 2053 2052\n",
            " 2021 2020 2019 2018 2017 2016 2015 2014 2013 2012 2011 2010 2009 2008\n",
            " 2007 2006 2005 2004 2003 2002 2001 2000 1999 1998 1997 2022 2023 2024\n",
            " 2025 2051 2050 2049 2048 2047 2046 2045 2044 2043 2042 2041 2040 1995\n",
            " 2039 2037 2036 2035 2034 2033 2032 2031 2030 2029 2028 2027 2026 2038\n",
            " 2348 2349 2350 2669 2668 2667 2666 2665 2664 2663 2662 2661 2660 2659\n",
            " 2658 2657 2656 2655 2654 2653 2652 2651 2650 2649 2648 2647 2646 2645\n",
            " 2670 2644 2671 2673 2698 2697 2696 2695 2694 2693 2692 2691 2690 2689\n",
            " 2688 2687 2686 2685 2684 2683 2682 2681 2680 2679 2678 2677 2676 2675\n",
            " 2674 2672 2643 2642 2641 2610 2609 2608 2607 2606 2605 2604 2603 2602\n",
            " 2601 2600 2599 2598 2597 2596 2595 2594 2593 2592 2591 2590 2589 2588\n",
            " 2587 2586 2611 2612 2613 2614 2640 2639 2638 2637 2636 2635 2634 2633\n",
            " 2632 2631 2630 2629 2699 2628 2626 2625 2624 2623 2622 2621 2620 2619\n",
            " 2618 2617 2616 2615 2627 2585 2700 2702 2786 2785 2784 2783 2782 2781\n",
            " 2780 2779 2778 2777 2776 2775 2774 2773 2772 2771 2770 2769 2768 2767\n",
            " 2766 2765 2764 2763 2762 2787 2761 2788 2790 2815 2814 2813 2812 2811\n",
            " 2810 2809 2808 2807 2806 2805 2804 2803 2802 2801 2800 2799 2798 2797\n",
            " 2796 2795 2794 2793 2792 2791 2789 2760 2759 2758 2727 2726 2725 2724\n",
            " 2723 2722 2721 2720 2719 2718 2717 2716 2715 2714 2713 2712 2711 2710\n",
            " 2709 2708 2707 2706 2705 2704 2703 2728 2729 2730 2731 2757 2756 2755\n",
            " 2754 2753 2752 2751 2750 2749 2748 2747 2746 2701 2745 2743 2742 2741\n",
            " 2740 2739 2738 2737 2736 2735 2734 2733 2732 2744 2584 2583 2582 2434\n",
            " 2433 2432 2431 2430 2429 2428 2427 2426 2425 2424 2423 2422 2421 2420\n",
            " 2419 2418 2417 2416 2415 2414 2413 2412 2411 2410 2435 2409 2436 2438\n",
            " 2463 2462 2461 2460 2459 2458 2457 2456 2455 2454 2453 2452 2451 2450\n",
            " 2449 2448 2447 2446 2445 2444 2443 2442 2441 2440 2439 2437 2408 2407\n",
            " 2406 2375 2374 2373 2372 2371 2370 2369 2368 2367 2366 2365 2364 2363\n",
            " 2362 2361 2360 2359 2358 2357 2356 2355 2354 2353 2352 2351 2376 2377\n",
            " 2378 2379 2405 2404 2403 2402 2401 2400 2399 2398 2397 2396 2395 2394\n",
            " 2464 2393 2391 2390 2389 2388 2387 2386 2385 2384 2383 2382 2381 2380\n",
            " 2392 2465 2466 2467 2551 2550 2549 2548 2547 2546 2545 2544 2543 2542\n",
            " 2541 2540 2539 2538 2537 2536 2535 2534 2533 2532 2531 2530 2529 2528\n",
            " 2527 2552 2553 2554 2555 2581 2580 2579 2578 2577 2576 2575 2574 2573\n",
            " 2572 2571 2570 2526 2569 2567 2566 2565 2564 2563 2562 2561 2560 2559\n",
            " 2558 2557 2556 2568 1877 2525 2523 2492 2491 2490 2489 2488 2487 2486\n",
            " 2485 2484 2483 2482 2481 2480 2479 2478 2477 2476 2475 2474 2473 2472\n",
            " 2471 2470 2469 2468 2493 2494 2495 2496 2522 2521 2520 2519 2518 2517\n",
            " 2516 2515 2514 2513 2512 2511 2524 2510 2508 2507 2506 2505 2504 2503\n",
            " 2502 2501 2500 2499 2498 2497 2509 7499]\n"
          ]
        }
      ]
    },
    {
      "cell_type": "code",
      "source": [
        "from sklearn.feature_selection import SelectKBest, mutual_info_classif, RFE\n",
        "\n",
        "# Mutual Information\n",
        "selector_mi = SelectKBest(mutual_info_classif, k=10)\n",
        "X_train_mi = selector_mi.fit_transform(X_train, y_train)\n",
        "X_val_mi = selector_mi.transform(X_val)\n",
        "X_test_mi = selector_mi.transform(X_test)\n",
        "\n",
        "# Recursive Feature Elimination (RFE)\n",
        "selector_rfe = RFE(RandomForestClassifier(), n_features_to_select=10, step=1)\n",
        "selector_rfe.fit(X_train, y_train)\n",
        "\n",
        "X_train_rfe = selector_rfe.transform(X_train)\n",
        "X_val_rfe = selector_rfe.transform(X_val)\n",
        "X_test_rfe = selector_rfe.transform(X_test)\n",
        "\n",
        "# Retrain models using selected features\n",
        "for model_name, model in best_models.items():\n",
        "    model.fit(X_train_mi, y_train)\n",
        "    mi_accuracy = accuracy_score(y_test, model.predict(X_test_mi))\n",
        "    print(f\"{model_name} with Mutual Information Test Accuracy: {mi_accuracy}\")\n",
        "\n",
        "    model.fit(X_train_rfe, y_train)\n",
        "    rfe_accuracy = accuracy_score(y_test, model.predict(X_test_rfe))\n",
        "    print(f\"{model_name} with RFE Test Accuracy: {rfe_accuracy}\")\n"
      ],
      "metadata": {
        "colab": {
          "base_uri": "https://localhost:8080/"
        },
        "id": "WsDweb4W36M1",
        "outputId": "6ca1ea94-ad4c-41c9-8400-2d1a9a44faa7"
      },
      "id": "WsDweb4W36M1",
      "execution_count": 29,
      "outputs": [
        {
          "output_type": "stream",
          "name": "stdout",
          "text": [
            "DecisionTree with Mutual Information Test Accuracy: 0.9998666666666667\n",
            "DecisionTree with RFE Test Accuracy: 0.9998666666666667\n",
            "SVM with Mutual Information Test Accuracy: 0.9998666666666667\n",
            "SVM with RFE Test Accuracy: 0.9998666666666667\n",
            "RandomForest with Mutual Information Test Accuracy: 0.9998666666666667\n",
            "RandomForest with RFE Test Accuracy: 0.9998666666666667\n"
          ]
        }
      ]
    },
    {
      "cell_type": "code",
      "source": [
        "from sklearn.cluster import KMeans, DBSCAN, AgglomerativeClustering\n",
        "from sklearn.metrics import adjusted_rand_score\n",
        "\n",
        "clustering_algorithms = {\n",
        "    \"KMeans\": KMeans(n_clusters=10, random_state=42),\n",
        "    \"DBSCAN\": DBSCAN(eps=0.5, min_samples=10),\n",
        "    \"Agglomerative\": AgglomerativeClustering(n_clusters=10)\n",
        "}\n",
        "\n",
        "# Remove labels\n",
        "X_no_labels = X_test.copy()\n",
        "\n",
        "# Apply clustering\n",
        "for name, algo in clustering_algorithms.items():\n",
        "    clusters = algo.fit_predict(X_no_labels)\n",
        "    score = adjusted_rand_score(y_test, clusters)\n",
        "    print(f\"{name} ARI Score: {score}\")\n"
      ],
      "metadata": {
        "colab": {
          "base_uri": "https://localhost:8080/"
        },
        "id": "9vnw4N1g36Jr",
        "outputId": "422d18ea-06a5-44ed-dad1-40ff53c051fb"
      },
      "id": "9vnw4N1g36Jr",
      "execution_count": 30,
      "outputs": [
        {
          "output_type": "stream",
          "name": "stdout",
          "text": [
            "KMeans ARI Score: 9.356903802840253e-05\n",
            "DBSCAN ARI Score: 0.0\n",
            "Agglomerative ARI Score: 2.1782863763023507e-07\n"
          ]
        }
      ]
    },
    {
      "cell_type": "code",
      "source": [
        "from sklearn.ensemble import IsolationForest\n",
        "from sklearn.svm import OneClassSVM\n",
        "from sklearn.neighbors import LocalOutlierFactor\n",
        "\n",
        "anomaly_detectors = {\n",
        "    \"IsolationForest\": IsolationForest(random_state=42),\n",
        "    \"OneClassSVM\": OneClassSVM(),\n",
        "    \"LocalOutlierFactor\": LocalOutlierFactor(novelty=True)\n",
        "}\n",
        "\n",
        "\n",
        "for name, detector in anomaly_detectors.items():\n",
        "    detector.fit(X_train)\n",
        "    predictions = detector.predict(X_test)\n",
        "    print(f\"{name} predictions: {predictions[:10]}\")\n"
      ],
      "metadata": {
        "colab": {
          "base_uri": "https://localhost:8080/"
        },
        "id": "bZIIsQH736Gg",
        "outputId": "fc044278-69dd-4f2b-a95f-342b35d27cb2"
      },
      "id": "bZIIsQH736Gg",
      "execution_count": 31,
      "outputs": [
        {
          "output_type": "stream",
          "name": "stdout",
          "text": [
            "IsolationForest predictions: [1 1 1 1 1 1 1 1 1 1]\n",
            "OneClassSVM predictions: [ 1  1  1  1 -1 -1  1 -1  1 -1]\n"
          ]
        },
        {
          "output_type": "stream",
          "name": "stderr",
          "text": [
            "/usr/local/lib/python3.10/dist-packages/sklearn/base.py:493: UserWarning: X does not have valid feature names, but LocalOutlierFactor was fitted with feature names\n",
            "  warnings.warn(\n"
          ]
        },
        {
          "output_type": "stream",
          "name": "stdout",
          "text": [
            "LocalOutlierFactor predictions: [ 1  1  1  1  1 -1  1  1  1  1]\n"
          ]
        }
      ]
    },
    {
      "cell_type": "code",
      "source": [
        "from sklearn.model_selection import LeaveOneOut\n",
        "from sklearn.ensemble import IsolationForest\n",
        "from sklearn.svm import OneClassSVM\n",
        "from sklearn.neighbors import LocalOutlierFactor"
      ],
      "metadata": {
        "id": "L6ykD3CBV_Zu"
      },
      "id": "L6ykD3CBV_Zu",
      "execution_count": 35,
      "outputs": []
    },
    {
      "cell_type": "code",
      "source": [
        "X_array = X.to_numpy() if hasattr(X, \"to_numpy\") else X\n",
        "y_array = y.to_numpy() if hasattr(y, \"to_numpy\") else y\n",
        "\n",
        "# 250-point sample\n",
        "np.random.seed(42)\n",
        "sample_indices = np.random.choice(len(X_array), size=250, replace=False)\n",
        "X_sample = X_array[sample_indices]\n",
        "y_sample = y_array[sample_indices]\n",
        "\n",
        "\n",
        "anomaly_detectors = {\n",
        "    \"IsolationForest\": IsolationForest(random_state=42),\n",
        "    \"OneClassSVM\": OneClassSVM(),\n",
        "    \"LocalOutlierFactor\": LocalOutlierFactor(novelty=True)\n",
        "}\n",
        "\n",
        "\n",
        "loo = LeaveOneOut()\n",
        "results = {}\n",
        "\n",
        "for name, model in anomaly_detectors.items():\n",
        "    correct = 0\n",
        "    for train_idx, test_idx in loo.split(X_sample):\n",
        "        X_train, X_test = X_sample[train_idx], X_sample[test_idx]\n",
        "\n",
        "        if name != \"LocalOutlierFactor\":\n",
        "            model.fit(X_train)\n",
        "            pred = model.predict(X_test)\n",
        "        else:\n",
        "            model.fit(X_train)\n",
        "            pred = model.predict(X_test)\n",
        "\n",
        "\n",
        "        correct += int(pred[0] == y_sample[test_idx][0])\n",
        "\n",
        "    accuracy = correct / len(X_sample)\n",
        "    results[name] = accuracy\n",
        "\n",
        "\n",
        "print(\"Anomaly Detection with LOOCV Results:\")\n",
        "for name, acc in results.items():\n",
        "    print(f\"{name}: {acc:.4f}\")\n"
      ],
      "metadata": {
        "colab": {
          "base_uri": "https://localhost:8080/"
        },
        "id": "2SeY6OhTU_n_",
        "outputId": "5acad2d3-83eb-4f09-89b8-0638d836958e"
      },
      "id": "2SeY6OhTU_n_",
      "execution_count": 36,
      "outputs": [
        {
          "output_type": "stream",
          "name": "stdout",
          "text": [
            "Anomaly Detection with LOOCV Results:\n",
            "IsolationForest: 0.0000\n",
            "OneClassSVM: 0.0000\n",
            "LocalOutlierFactor: 0.0000\n"
          ]
        }
      ]
    },
    {
      "cell_type": "code",
      "source": [
        "from sklearn.feature_selection import mutual_info_classif\n",
        "\n",
        "# Calculate scores\n",
        "mi_scores = mutual_info_classif(X, y)\n",
        "\n",
        "top_5_features = np.argsort(mi_scores)[-5:]\n",
        "\n",
        "X_reduced = X.iloc[:, top_5_features]\n",
        "\n",
        "print(f\"Top 5 Features: {top_5_features}\")\n"
      ],
      "metadata": {
        "colab": {
          "base_uri": "https://localhost:8080/"
        },
        "id": "h6t5O-ZVU_Yt",
        "outputId": "e55f12cb-5548-4f8a-e2c0-8a99b46ee23d"
      },
      "id": "h6t5O-ZVU_Yt",
      "execution_count": 39,
      "outputs": [
        {
          "output_type": "stream",
          "name": "stdout",
          "text": [
            "Top 5 Features: [38 29  8 56 30]\n"
          ]
        }
      ]
    },
    {
      "cell_type": "code",
      "source": [
        "X_reduced = X_reduced[:len(y_sample)]"
      ],
      "metadata": {
        "id": "yaBH-SfscWIb"
      },
      "id": "yaBH-SfscWIb",
      "execution_count": 49,
      "outputs": []
    },
    {
      "cell_type": "code",
      "source": [
        "print(f\"Length of X_reduced: {len(X_reduced)}\")\n",
        "print(f\"Length of y_sample: {len(y_sample)}\")\n"
      ],
      "metadata": {
        "colab": {
          "base_uri": "https://localhost:8080/"
        },
        "id": "C7EGigw3Z59J",
        "outputId": "94b33e26-180c-4c6b-e68a-124ae2ff66bd"
      },
      "id": "C7EGigw3Z59J",
      "execution_count": 50,
      "outputs": [
        {
          "output_type": "stream",
          "name": "stdout",
          "text": [
            "Length of X_reduced: 250\n",
            "Length of y_sample: 250\n"
          ]
        }
      ]
    },
    {
      "cell_type": "code",
      "source": [
        "assert len(X_reduced) == len(y_sample), \"Lengths must match after feature reduction\"\n",
        "\n",
        "# Proceed with LeaveOneOut cross-validation\n",
        "reduced_results = {}\n",
        "loo = LeaveOneOut()\n",
        "\n",
        "for name, model in anomaly_detectors.items():\n",
        "    correct = 0\n",
        "    for train_idx, test_idx in loo.split(X_reduced):\n",
        "        X_train, X_test = X_reduced[train_idx], X_reduced[test_idx]\n",
        "        y_test = y_sample[test_idx]\n",
        "\n",
        "        if name != \"LocalOutlierFactor\":\n",
        "            model.fit(X_train)\n",
        "            pred = model.predict(X_test)\n",
        "        else:\n",
        "            model.fit(X_train)\n",
        "            pred = model.predict(X_test)\n",
        "\n",
        "        correct += int(pred[0] == y_test[0])\n",
        "\n",
        "    accuracy = correct / len(X_reduced)\n",
        "    reduced_results[name] = accuracy\n",
        "\n",
        "# Display results\n",
        "print(\"Reduced Feature Anomaly Detection Results:\")\n",
        "for name, acc in reduced_results.items():\n",
        "    print(f\"{name}: {acc:.4f}\")\n"
      ],
      "metadata": {
        "colab": {
          "base_uri": "https://localhost:8080/"
        },
        "id": "tlFm_AKk358p",
        "outputId": "d7d76da5-311d-40bb-c7e4-32e9c7376111"
      },
      "id": "tlFm_AKk358p",
      "execution_count": 51,
      "outputs": [
        {
          "output_type": "stream",
          "name": "stdout",
          "text": [
            "Reduced Feature Anomaly Detection Results:\n",
            "IsolationForest: 0.0000\n",
            "OneClassSVM: 0.0000\n",
            "LocalOutlierFactor: 0.0000\n"
          ]
        }
      ]
    },
    {
      "cell_type": "markdown",
      "source": [
        "The anomaly detection models performed poorly (0.0000 accuracy) with the top 5 features. This could be due to issues like model settings or data problems. Try adjusting the model, using different metrics, and applying k-fold cross-validation for better results."
      ],
      "metadata": {
        "id": "5Xr_Fmkxeebb"
      },
      "id": "5Xr_Fmkxeebb"
    }
  ],
  "metadata": {
    "kernelspec": {
      "display_name": "Python 3 (ipykernel)",
      "language": "python",
      "name": "python3"
    },
    "language_info": {
      "codemirror_mode": {
        "name": "ipython",
        "version": 3
      },
      "file_extension": ".py",
      "mimetype": "text/x-python",
      "name": "python",
      "nbconvert_exporter": "python",
      "pygments_lexer": "ipython3",
      "version": "3.9.6"
    },
    "colab": {
      "provenance": []
    }
  },
  "nbformat": 4,
  "nbformat_minor": 5
}