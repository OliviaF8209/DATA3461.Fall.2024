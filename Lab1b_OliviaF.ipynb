{
  "cells": [
    {
      "cell_type": "markdown",
      "metadata": {
        "id": "NnS_7Vg8azoo"
      },
      "source": [
        "# Lab.1.b: Logistic Regression\n",
        "\n",
        "In this exercise, you will implement logistic regression and apply it to two different datasets.\n",
        "\n",
        "\n",
        "# Outline\n",
        "- [ 1 - Packages ](#1)\n",
        "- [ 2 - Logistic Regression](#2)\n",
        "  - [ 2.1 Problem Statement](#2.1)\n",
        "  - [ 2.2 Loading and visualizing the data](#2.2)\n",
        "  - [ 2.3  Sigmoid function](#2.3)\n",
        "  - [ 2.4 Cost function for logistic regression](#2.4)\n",
        "  - [ 2.5 Gradient for logistic regression](#2.5)\n",
        "  - [ 2.6 Learning parameters using gradient descent ](#2.6)\n",
        "  - [ 2.7 Plotting the decision boundary](#2.7)\n",
        "  - [ 2.8 Evaluating logistic regression](#2.8)\n",
        "- [ 3 - Regularized Logistic Regression](#3)\n",
        "  - [ 3.1 Problem Statement](#3.1)\n",
        "  - [ 3.2 Loading and visualizing the data](#3.2)\n",
        "  - [ 3.3 Feature mapping](#3.3)\n",
        "  - [ 3.4 Cost function for regularized logistic regression](#3.4)\n",
        "  - [ 3.5 Gradient for regularized logistic regression](#3.5)\n",
        "  - [ 3.6 Learning parameters using gradient descent](#3.6)\n",
        "  - [ 3.7 Plotting the decision boundary](#3.7)\n",
        "  - [ 3.8 Evaluating regularized logistic regression model](#3.8)\n"
      ]
    },
    {
      "cell_type": "markdown",
      "metadata": {
        "id": "ma4rE7kjazos"
      },
      "source": [
        "<a name=\"1\"></a>\n",
        "## 1 - Packages\n",
        "\n",
        "First, let's run the cell below to import all the packages that you will need during this assignment.\n",
        "- [numpy](www.numpy.org) is the fundamental package for scientific computing with Python.\n",
        "- [matplotlib](http://matplotlib.org) is a famous library to plot graphs in Python.\n",
        "-  ``utils.py`` contains helper functions for this assignment. You do not need to modify code in this file."
      ]
    },
    {
      "cell_type": "code",
      "source": [
        "pip install utils"
      ],
      "metadata": {
        "colab": {
          "base_uri": "https://localhost:8080/"
        },
        "id": "DkVlnfXLiKZx",
        "outputId": "5912b4f2-111d-49bd-9597-6f6d85115511"
      },
      "execution_count": 2,
      "outputs": [
        {
          "output_type": "stream",
          "name": "stdout",
          "text": [
            "Collecting utils\n",
            "  Downloading utils-1.0.2.tar.gz (13 kB)\n",
            "  Preparing metadata (setup.py) ... \u001b[?25l\u001b[?25hdone\n",
            "Building wheels for collected packages: utils\n",
            "  Building wheel for utils (setup.py) ... \u001b[?25l\u001b[?25hdone\n",
            "  Created wheel for utils: filename=utils-1.0.2-py2.py3-none-any.whl size=13905 sha256=b1598b3c7e5a07210cbc20acbe97cf987eb52d2e774164d5add78dc16c318156\n",
            "  Stored in directory: /root/.cache/pip/wheels/b8/39/f5/9d0ca31dba85773ececf0a7f5469f18810e1c8a8ed9da28ca7\n",
            "Successfully built utils\n",
            "Installing collected packages: utils\n",
            "Successfully installed utils-1.0.2\n"
          ]
        }
      ]
    },
    {
      "cell_type": "code",
      "execution_count": 3,
      "metadata": {
        "id": "mQOX5dbsazot"
      },
      "outputs": [],
      "source": [
        "import numpy as np\n",
        "import matplotlib.pyplot as plt\n",
        "from utils import *\n",
        "import copy\n",
        "import math\n",
        "\n",
        "%matplotlib inline"
      ]
    },
    {
      "cell_type": "markdown",
      "metadata": {
        "id": "eOY1snZUazov"
      },
      "source": [
        "<a name=\"2\"></a>\n",
        "## 2 - Logistic Regression\n",
        "\n",
        "In this part of the exercise, you will build a logistic regression model to predict whether a student gets admitted into a university.\n",
        "\n",
        "<a name=\"2.1\"></a>\n",
        "### 2.1 Problem Statement\n",
        "\n",
        "Suppose that you are the administrator of a university department and you want to determine each applicant’s chance of admission based on their results on two exams.\n",
        "* You have historical data from previous applicants that you can use as a training set for logistic regression.\n",
        "* For each training example, you have the applicant’s scores on two exams and the admissions decision.\n",
        "* Your task is to build a classification model that estimates an applicant’s probability of admission based on the scores from those two exams.\n",
        "\n",
        "<a name=\"2.2\"></a>\n",
        "### 2.2 Loading and visualizing the data\n",
        "\n",
        "You will start by loading the dataset for this task.\n",
        "- The `load_dataset()` function shown below loads the data into variables `X_train` and `y_train`\n",
        "  - `X_train` contains exam scores on two exams for a student\n",
        "  - `y_train` is the admission decision\n",
        "      - `y_train = 1` if the student was admitted\n",
        "      - `y_train = 0` if the student was not admitted\n",
        "  - Both `X_train` and `y_train` are numpy arrays.\n"
      ]
    },
    {
      "cell_type": "code",
      "source": [
        "# Loading the dataset\n",
        "\n",
        "!mkdir pandas\n",
        "!pwd"
      ],
      "metadata": {
        "colab": {
          "base_uri": "https://localhost:8080/"
        },
        "id": "R_5Hr36ukDV6",
        "outputId": "68c6d4b7-e6f8-4f3c-b0d3-55d6d585ffdf"
      },
      "execution_count": 4,
      "outputs": [
        {
          "output_type": "stream",
          "name": "stdout",
          "text": [
            "/content\n"
          ]
        }
      ]
    },
    {
      "cell_type": "code",
      "source": [
        "import pandas as pd"
      ],
      "metadata": {
        "id": "2qk985Z2oFHI"
      },
      "execution_count": 4,
      "outputs": []
    },
    {
      "cell_type": "code",
      "source": [
        "import os\n",
        "os.chdir(\"pandas\")"
      ],
      "metadata": {
        "id": "mKwQYsOKkFSg"
      },
      "execution_count": 5,
      "outputs": []
    },
    {
      "cell_type": "code",
      "source": [
        "!pwd"
      ],
      "metadata": {
        "colab": {
          "base_uri": "https://localhost:8080/"
        },
        "id": "m6yJAiJmkFND",
        "outputId": "6d66a76c-5758-44c9-8fc6-6744ed534a3b"
      },
      "execution_count": 1,
      "outputs": [
        {
          "output_type": "stream",
          "name": "stdout",
          "text": [
            "/content\n"
          ]
        }
      ]
    },
    {
      "cell_type": "code",
      "source": [
        "!ls"
      ],
      "metadata": {
        "colab": {
          "base_uri": "https://localhost:8080/"
        },
        "id": "58vyrncekFBl",
        "outputId": "c3a38bc2-aca2-453a-98c5-bb8463585b5e"
      },
      "execution_count": 2,
      "outputs": [
        {
          "output_type": "stream",
          "name": "stdout",
          "text": [
            "ex2data2.txt  sample_data\n"
          ]
        }
      ]
    },
    {
      "cell_type": "code",
      "source": [
        "def load_data(filepath):\n",
        "    data = pd.read_csv('/content/ex2data2.txt', header=None)\n",
        "    return data.iloc[:, :-1], data.iloc[:, -1].values"
      ],
      "metadata": {
        "id": "Bie0pJPzf4cu"
      },
      "execution_count": 5,
      "outputs": []
    },
    {
      "cell_type": "code",
      "source": [
        "# load dataset\n",
        "X_train, y_train = load_data(\"data/ex2data1.txt\")"
      ],
      "metadata": {
        "id": "UHg3K6Ysflyx"
      },
      "execution_count": 6,
      "outputs": []
    },
    {
      "cell_type": "code",
      "source": [
        "## shape of dataframe"
      ],
      "metadata": {
        "id": "D7RGP-FOygnH"
      },
      "execution_count": 30,
      "outputs": []
    },
    {
      "cell_type": "markdown",
      "metadata": {
        "id": "fAtiPdZgazow"
      },
      "source": [
        "#### View the variables\n",
        "Let's get more familiar with your dataset.  \n",
        "- A good place to start is to just print out each variable and see what it contains.\n",
        "\n",
        "The code below prints the first five values of `X_train` and the type of the variable."
      ]
    },
    {
      "cell_type": "code",
      "execution_count": 8,
      "metadata": {
        "colab": {
          "base_uri": "https://localhost:8080/"
        },
        "id": "yfD7vdH-azow",
        "outputId": "977a31f2-cea0-4692-c3fa-5de570ca8460"
      },
      "outputs": [
        {
          "output_type": "stream",
          "name": "stdout",
          "text": [
            "First five elements in X_train are:\n",
            "           0        1\n",
            "0  0.051267  0.69956\n",
            "1 -0.092742  0.68494\n",
            "2 -0.213710  0.69225\n",
            "3 -0.375000  0.50219\n",
            "4 -0.513250  0.46564\n",
            "Type of X_train: <class 'pandas.core.frame.DataFrame'>\n"
          ]
        }
      ],
      "source": [
        "print(\"First five elements in X_train are:\\n\", X_train[:5])\n",
        "print(\"Type of X_train:\",type(X_train))"
      ]
    },
    {
      "cell_type": "markdown",
      "metadata": {
        "id": "W2YD8eOcazow"
      },
      "source": [
        "Now print the first five values of `y_train`"
      ]
    },
    {
      "cell_type": "code",
      "execution_count": 9,
      "metadata": {
        "colab": {
          "base_uri": "https://localhost:8080/"
        },
        "id": "3LoZhT9xazox",
        "outputId": "470991d7-d1d2-4c2b-9b5a-771981a6b533"
      },
      "outputs": [
        {
          "output_type": "stream",
          "name": "stdout",
          "text": [
            "First five elements in y_train are:\n",
            " [1 1 1 1 1]\n",
            "Type of y_train: <class 'numpy.ndarray'>\n"
          ]
        }
      ],
      "source": [
        "print(\"First five elements in y_train are:\\n\", y_train[:5])\n",
        "print(\"Type of y_train:\",type(y_train))"
      ]
    },
    {
      "cell_type": "markdown",
      "metadata": {
        "id": "m050dCJbazox"
      },
      "source": [
        "#### Check the dimensions of your variables\n",
        "\n",
        "Another useful way to get familiar with your data is to view its dimensions. Let's print the shape of `X_train` and `y_train` and see how many training examples we have in our dataset."
      ]
    },
    {
      "cell_type": "code",
      "execution_count": 10,
      "metadata": {
        "colab": {
          "base_uri": "https://localhost:8080/"
        },
        "id": "LWaKC-RHazox",
        "outputId": "631dd61d-a44d-4f4c-c6bc-4b4e3f780d1c"
      },
      "outputs": [
        {
          "output_type": "stream",
          "name": "stdout",
          "text": [
            "The shape of X_train is: (118, 2)\n",
            "The shape of y_train is: (118,)\n",
            "We have m = 118 training examples\n"
          ]
        }
      ],
      "source": [
        "print ('The shape of X_train is: ' + str(X_train.shape))\n",
        "print ('The shape of y_train is: ' + str(y_train.shape))\n",
        "print ('We have m = %d training examples' % (len(y_train)))"
      ]
    },
    {
      "cell_type": "markdown",
      "metadata": {
        "id": "_XCXB-vBazoy"
      },
      "source": [
        "#### Visualize your data\n",
        "\n",
        "Before starting to implement any learning algorithm, it is always good to visualize the data if possible.\n",
        "- The code below displays the data on a 2D plot (as shown below), where the axes are the two exam scores, and the positive and negative examples are shown with different markers.\n",
        "- We use a helper function in the ``utils.py`` file to generate this plot.\n",
        "\n",
        "<img src=\"images/figure 1.png\" width=\"450\" height=\"450\">\n",
        "\n"
      ]
    },
    {
      "cell_type": "code",
      "source": [
        "# Plot examples\n",
        "plot_data(X_train, y_train[:], pos_label=\"Admitted\", neg_label=\"Not admitted\")\n",
        "\n",
        "# Set the y-axis label\n",
        "plt.ylabel('Exam 2 score')\n",
        "# Set the x-axis label\n",
        "plt.xlabel('Exam 1 score')\n",
        "plt.legend(loc=\"upper right\")\n",
        "plt.show()"
      ],
      "metadata": {
        "colab": {
          "base_uri": "https://localhost:8080/",
          "height": 228
        },
        "id": "I3EW8i5sPjue",
        "outputId": "219c7d57-4407-4bc6-beba-68a6d67f160e"
      },
      "execution_count": 12,
      "outputs": [
        {
          "output_type": "error",
          "ename": "NameError",
          "evalue": "name 'plot_data' is not defined",
          "traceback": [
            "\u001b[0;31m---------------------------------------------------------------------------\u001b[0m",
            "\u001b[0;31mNameError\u001b[0m                                 Traceback (most recent call last)",
            "\u001b[0;32m<ipython-input-12-aebdf323fec6>\u001b[0m in \u001b[0;36m<cell line: 2>\u001b[0;34m()\u001b[0m\n\u001b[1;32m      1\u001b[0m \u001b[0;31m# Plot examples\u001b[0m\u001b[0;34m\u001b[0m\u001b[0;34m\u001b[0m\u001b[0m\n\u001b[0;32m----> 2\u001b[0;31m \u001b[0mplot_data\u001b[0m\u001b[0;34m(\u001b[0m\u001b[0mX_train\u001b[0m\u001b[0;34m,\u001b[0m \u001b[0my_train\u001b[0m\u001b[0;34m[\u001b[0m\u001b[0;34m:\u001b[0m\u001b[0;34m]\u001b[0m\u001b[0;34m,\u001b[0m \u001b[0mpos_label\u001b[0m\u001b[0;34m=\u001b[0m\u001b[0;34m\"Admitted\"\u001b[0m\u001b[0;34m,\u001b[0m \u001b[0mneg_label\u001b[0m\u001b[0;34m=\u001b[0m\u001b[0;34m\"Not admitted\"\u001b[0m\u001b[0;34m)\u001b[0m\u001b[0;34m\u001b[0m\u001b[0;34m\u001b[0m\u001b[0m\n\u001b[0m\u001b[1;32m      3\u001b[0m \u001b[0;34m\u001b[0m\u001b[0m\n\u001b[1;32m      4\u001b[0m \u001b[0;31m# Set the y-axis label\u001b[0m\u001b[0;34m\u001b[0m\u001b[0;34m\u001b[0m\u001b[0m\n\u001b[1;32m      5\u001b[0m \u001b[0mplt\u001b[0m\u001b[0;34m.\u001b[0m\u001b[0mylabel\u001b[0m\u001b[0;34m(\u001b[0m\u001b[0;34m'Exam 2 score'\u001b[0m\u001b[0;34m)\u001b[0m\u001b[0;34m\u001b[0m\u001b[0;34m\u001b[0m\u001b[0m\n",
            "\u001b[0;31mNameError\u001b[0m: name 'plot_data' is not defined"
          ]
        }
      ]
    },
    {
      "cell_type": "markdown",
      "metadata": {
        "id": "EfPjH8IWazoy"
      },
      "source": [
        "Your goal is to build a logistic regression model to fit this data.\n",
        "- With this model, you can then predict if a new student will be admitted based on their scores on the two exams."
      ]
    },
    {
      "cell_type": "markdown",
      "metadata": {
        "id": "gFrLxYiDazoy"
      },
      "source": [
        "<a name=\"2.3\"></a>\n",
        "### 2.3  Sigmoid function\n",
        "\n",
        "Recall that for logistic regression, the model is represented as\n",
        "\n",
        "$$ f_{\\mathbf{w},b}(x) = g(\\mathbf{w}\\cdot \\mathbf{x} + b)$$\n",
        "where function $g$ is the sigmoid function. The sigmoid function is defined as:\n",
        "\n",
        "$$g(z) = \\frac{1}{1+e^{-z}}$$\n",
        "\n",
        "Let's implement the sigmoid function first, so it can be used by the rest of this assignment.\n",
        "\n",
        "<a name='ex-01'></a>\n",
        "### Exercise 1\n",
        "Please complete  the `sigmoid` function to calculate\n",
        "\n",
        "$$g(z) = \\frac{1}{1+e^{-z}}$$\n",
        "\n",
        "Note that\n",
        "- `z` is not always a single number, but can also be an array of numbers.\n",
        "- If the input is an array of numbers, we'd like to apply the sigmoid function to each value in the input array.\n",
        "\n",
        "If you get stuck, you can check out the hints presented after the cell below to help you with the implementation."
      ]
    },
    {
      "cell_type": "code",
      "execution_count": 13,
      "metadata": {
        "id": "9OM5M9nnazoy"
      },
      "outputs": [],
      "source": [
        "# UNQ_C1\n",
        "# GRADED FUNCTION: sigmoid\n",
        "\n",
        "def sigmoid(z):\n",
        "    \"\"\"\n",
        "    Compute the sigmoid of z\n",
        "\n",
        "    Args:\n",
        "        z (ndarray): A scalar, numpy array of any size.\n",
        "\n",
        "    Returns:\n",
        "        g (ndarray): sigmoid(z), with the same shape as z\n",
        "\n",
        "    \"\"\"\n",
        "\n",
        "    ### START CODE HERE ###\n",
        "\n",
        "    g= 1/(1+np.exp(-z))\n",
        "\n",
        "    ### END SOLUTION ###\n",
        "\n",
        "    return g"
      ]
    },
    {
      "cell_type": "markdown",
      "metadata": {
        "id": "-zq5esbEazoy"
      },
      "source": [
        "<details>\n",
        "  <summary><font size=\"3\" color=\"darkgreen\"><b>Click for hints</b></font></summary>\n",
        "       \n",
        "`numpy` has a function called [`np.exp()`](https://numpy.org/doc/stable/reference/generated/numpy.exp.html), which offers a convinient way to calculate the exponential ( $e^{z}$) of all elements in the input array (`z`).\n",
        "\n",
        "<details>\n",
        "          <summary><font size=\"2\" color=\"darkblue\"><b> Click for more hints</b></font></summary>\n",
        "        \n",
        "  - You can translate $e^{-z}$ into code as `np.exp(-z)`\n",
        "    \n",
        "  - You can translate $1/e^{-z}$ into code as `1/np.exp(-z)`\n",
        "    \n",
        "    If you're still stuck, you can check the hints presented below to figure out how to calculate `g`\n",
        "    \n",
        "    <details>\n",
        "          <summary><font size=\"2\" color=\"darkblue\"><b>Hint to calculate g</b></font></summary>\n",
        "        <code>g = 1 / (1 + np.exp(-z))</code>\n",
        "    </details>\n",
        "\n",
        "\n",
        "</details>"
      ]
    },
    {
      "cell_type": "markdown",
      "metadata": {
        "id": "fO9gfA3Bazoz"
      },
      "source": [
        "When you are finished, try testing a few values by calling `sigmoid(x)` in the cell below.\n",
        "- For large positive values of x, the sigmoid should be close to 1, while for large negative values, the sigmoid should be close to 0.\n",
        "- Evaluating `sigmoid(0)` should give you exactly 0.5.\n"
      ]
    },
    {
      "cell_type": "code",
      "execution_count": 14,
      "metadata": {
        "colab": {
          "base_uri": "https://localhost:8080/"
        },
        "id": "qbLimq0cazoz",
        "outputId": "82294d74-e65a-46d1-ea40-aeb03c23300f"
      },
      "outputs": [
        {
          "output_type": "stream",
          "name": "stdout",
          "text": [
            "sigmoid(0) = 0.5\n"
          ]
        }
      ],
      "source": [
        "print (\"sigmoid(0) = \" + str(sigmoid(0)))"
      ]
    },
    {
      "cell_type": "markdown",
      "metadata": {
        "id": "M2UYulPGazoz"
      },
      "source": [
        "**Expected Output**:\n",
        "<table>\n",
        "  <tr>\n",
        "    <td> <b>sigmoid(0)<b></td>\n",
        "    <td> 0.5 </td>\n",
        "  </tr>\n",
        "</table>\n",
        "    \n",
        "- As mentioned before, your code should also work with vectors and matrices. For a matrix, your function should perform the sigmoid function on every element."
      ]
    },
    {
      "cell_type": "code",
      "source": [
        "## this part is giving me issues..."
      ],
      "metadata": {
        "id": "psASjJ9H8PQr"
      },
      "execution_count": 16,
      "outputs": []
    },
    {
      "cell_type": "code",
      "source": [
        "!pip install public_test"
      ],
      "metadata": {
        "colab": {
          "base_uri": "https://localhost:8080/"
        },
        "id": "eVzcXFP-2BtE",
        "outputId": "1bc228a1-9c03-49d7-937a-fab24747db83"
      },
      "execution_count": 17,
      "outputs": [
        {
          "output_type": "stream",
          "name": "stdout",
          "text": [
            "Collecting public_test\n",
            "  Downloading public_test-0.1.1-py3-none-any.whl.metadata (2.7 kB)\n",
            "Downloading public_test-0.1.1-py3-none-any.whl (3.7 kB)\n",
            "Installing collected packages: public_test\n",
            "Successfully installed public_test-0.1.1\n"
          ]
        }
      ]
    },
    {
      "cell_type": "code",
      "source": [
        "import sys"
      ],
      "metadata": {
        "id": "tvjfHvmd0gvI"
      },
      "execution_count": 18,
      "outputs": []
    },
    {
      "cell_type": "code",
      "source": [
        "## Had to add this bc the following code had undefined variables...\n",
        "import numpy as np\n",
        "\n",
        "def sigmoid(x):\n",
        "    return 1 / (1 + np.exp(-np.asarray(x, dtype=float)))\n",
        "\n",
        "def sigmoid_test(sigmoid_func=None, test_cases=None):\n",
        "    if sigmoid_func is None:\n",
        "        sigmoid_func = sigmoid\n",
        "    if test_cases is None:\n",
        "        test_cases = [(np.array([-1, 0, 1, 2]), np.array([1 / (1 + np.exp(1)), 0.5, 1 / (1 + np.exp(-1)), 1 / (1 + np.exp(-2))]))]\n",
        "    for input_array, expected_output in test_cases:\n",
        "        assert np.allclose(sigmoid_func(input_array), expected_output)"
      ],
      "metadata": {
        "id": "GOFVdfT1B7kE"
      },
      "execution_count": 19,
      "outputs": []
    },
    {
      "cell_type": "code",
      "execution_count": 20,
      "metadata": {
        "colab": {
          "base_uri": "https://localhost:8080/"
        },
        "collapsed": true,
        "id": "e9QUBhidazoz",
        "outputId": "bf6d5d77-dda4-42bf-bb59-60f94127eae5"
      },
      "outputs": [
        {
          "output_type": "stream",
          "name": "stdout",
          "text": [
            "sigmoid([ -1, 0, 1, 2]) = [0.26894142 0.5        0.73105858 0.88079708]\n"
          ]
        }
      ],
      "source": [
        "print (\"sigmoid([ -1, 0, 1, 2]) = \" + str(sigmoid(np.array([-1, 0, 1, 2]))))\n",
        "\n",
        "# UNIT TESTS\n",
        "from public_test import *\n",
        "sigmoid_test(sigmoid)"
      ]
    },
    {
      "cell_type": "markdown",
      "metadata": {
        "id": "93uD9LDfazoz"
      },
      "source": [
        "**Expected Output**:\n",
        "<table>\n",
        "  <tr>\n",
        "    <td><b>sigmoid([-1, 0, 1, 2])<b></td>\n",
        "    <td>[0.26894142        0.5           0.73105858        0.88079708]</td>\n",
        "  </tr>    \n",
        "  \n",
        "</table>"
      ]
    },
    {
      "cell_type": "markdown",
      "metadata": {
        "id": "vuQAP73vazo0"
      },
      "source": [
        "<a name=\"2.4\"></a>\n",
        "### 2.4 Cost function for logistic regression\n",
        "\n",
        "In this section, you will implement the cost function for logistic regression.\n",
        "\n",
        "<a name='ex-02'></a>\n",
        "### Exercise 2\n",
        "\n",
        "Please complete the `compute_cost` function using the equations below.\n",
        "\n",
        "Recall that for logistic regression, the cost function is of the form\n",
        "\n",
        "$$ J(\\mathbf{w},b) = \\frac{1}{m}\\sum_{i=0}^{m-1} \\left[ loss(f_{\\mathbf{w},b}(\\mathbf{x}^{(i)}), y^{(i)}) \\right] \\tag{1}$$\n",
        "\n",
        "where\n",
        "* m is the number of training examples in the dataset\n",
        "\n",
        "\n",
        "* $loss(f_{\\mathbf{w},b}(\\mathbf{x}^{(i)}), y^{(i)})$ is the cost for a single data point, which is -\n",
        "\n",
        "    $$loss(f_{\\mathbf{w},b}(\\mathbf{x}^{(i)}), y^{(i)}) = (-y^{(i)} \\log\\left(f_{\\mathbf{w},b}\\left( \\mathbf{x}^{(i)} \\right) \\right) - \\left( 1 - y^{(i)}\\right) \\log \\left( 1 - f_{\\mathbf{w},b}\\left( \\mathbf{x}^{(i)} \\right) \\right) \\tag{2}$$\n",
        "    \n",
        "    \n",
        "*  $f_{\\mathbf{w},b}(\\mathbf{x}^{(i)})$ is the model's prediction, while $y^{(i)}$, which is the actual label\n",
        "\n",
        "*  $f_{\\mathbf{w},b}(\\mathbf{x}^{(i)}) = g(\\mathbf{w} \\cdot \\mathbf{x^{(i)}} + b)$ where function $g$ is the sigmoid function.\n",
        "    * It might be helpful to first calculate an intermediate variable $z_{\\mathbf{w},b}(\\mathbf{x}^{(i)}) = \\mathbf{w} \\cdot \\mathbf{x^{(i)}} + b = w_0x^{(i)}_0 + ... + w_{n-1}x^{(i)}_{n-1} + b$ where $n$ is the number of features, before calculating $f_{\\mathbf{w},b}(\\mathbf{x}^{(i)}) = g(z_{\\mathbf{w},b}(\\mathbf{x}^{(i)}))$\n",
        "\n",
        "Note:\n",
        "* As you are doing this, remember that the variables `X_train` and `y_train` are not scalar values but matrices of shape ($m, n$) and ($𝑚$,1) respectively, where  $𝑛$ is the number of features and $𝑚$ is the number of training examples.\n",
        "* You can use the sigmoid function that you implemented above for this part.\n",
        "\n",
        "If you get stuck, you can check out the hints presented after the cell below to help you with the implementation."
      ]
    },
    {
      "cell_type": "code",
      "execution_count": 21,
      "metadata": {
        "id": "kjaKadxrazo0"
      },
      "outputs": [],
      "source": [
        "# UNQ_C2\n",
        "# GRADED FUNCTION: compute_cost\n",
        "def compute_cost(X, y, w, b, lambda_= 1):\n",
        "    \"\"\"\n",
        "    Computes the cost over all examples\n",
        "    Args:\n",
        "      X : (ndarray Shape (m,n)) data, m examples by n features\n",
        "      y : (array_like Shape (m,)) target value\n",
        "      w : (array_like Shape (n,)) Values of parameters of the model\n",
        "      b : scalar Values of bias parameter of the model\n",
        "      lambda_: unused placeholder\n",
        "    Returns:\n",
        "      total_cost: (scalar)         cost\n",
        "    \"\"\"\n",
        "\n",
        "    m, n = X.shape\n",
        "\n",
        "    ### START CODE HERE ###\n",
        "\n",
        "    loss_sum = 0\n",
        "\n",
        "    for i in range(m):\n",
        "        z_wb = w[0] * X[i] + b\n",
        "        f_wb = z_wb\n",
        "\n",
        "        loss = (f_wb - y[i]) ** 2\n",
        "        loss_sum += loss\n",
        "    total_cost = (1 / m) * loss_sum\n",
        "\n",
        "    ### END CODE HERE ###\n",
        "\n",
        "    return total_cost"
      ]
    },
    {
      "cell_type": "markdown",
      "metadata": {
        "id": "xC6vFJ5aazo0"
      },
      "source": [
        "<details>\n",
        "  <summary><font size=\"3\" color=\"darkgreen\"><b>Click for hints</b></font></summary>\n",
        "    \n",
        "    \n",
        "   * You can represent a summation operator eg: $h = \\sum\\limits_{i = 0}^{m-1} 2i$ in code as follows:\n",
        "    ```python\n",
        "        h = 0\n",
        "        for i in range(m):\n",
        "            h = h + 2*i\n",
        "    ```\n",
        "  \n",
        "   * In this case, you can iterate over all the examples in `X` using a for loop and add the `loss` from each iteration to a variable (`loss_sum`) initialized outside the loop.\n",
        "\n",
        "   * Then, you can return the `total_cost` as `loss_sum` divided by `m`.\n",
        "     \n",
        "    <details>\n",
        "          <summary><font size=\"2\" color=\"darkblue\"><b> Click for more hints</b></font></summary>\n",
        "        \n",
        "    * Here's how you can structure the overall implementation for this function\n",
        "    ```python\n",
        "    def compute_cost(X, y, w, b, lambda_= 1):\n",
        "        m, n = X.shape\n",
        "    \n",
        "        ### START CODE HERE ###\n",
        "        loss_sum = 0\n",
        "        \n",
        "        # Loop over each training example\n",
        "        for i in range(m):\n",
        "            \n",
        "            # First calculate z_wb = w[0]*X[i][0]+...+w[n-1]*X[i][n-1]+b\n",
        "            z_wb = 0\n",
        "            # Loop over each feature\n",
        "            for j in range(n):\n",
        "                # Add the corresponding term to z_wb\n",
        "                z_wb_ij = # Your code here to calculate w[j] * X[i][j]\n",
        "                z_wb += z_wb_ij # equivalent to z_wb = z_wb + z_wb_ij\n",
        "            # Add the bias term to z_wb\n",
        "            z_wb += b # equivalent to z_wb = z_wb + b\n",
        "        \n",
        "            f_wb = # Your code here to calculate prediction f_wb for a training example\n",
        "            loss =  # Your code here to calculate loss for a training example\n",
        "            \n",
        "            loss_sum += loss # equivalent to loss_sum = loss_sum + loss\n",
        "        \n",
        "        total_cost = (1 / m) * loss_sum  \n",
        "        ### END CODE HERE ###\n",
        "        \n",
        "        return total_cost\n",
        "    ```\n",
        "    \n",
        "    If you're still stuck, you can check the hints presented below to figure out how to calculate `z_wb_ij`, `f_wb` and `cost`.\n",
        "    <details>\n",
        "          <summary><font size=\"2\" color=\"darkblue\"><b>Hint to calculate z_wb_ij</b></font></summary>\n",
        "           &emsp; &emsp; <code>z_wb_ij = w[j]*X[i][j] </code>\n",
        "    </details>\n",
        "        \n",
        "    <details>\n",
        "          <summary><font size=\"2\" color=\"darkblue\"><b>Hint to calculate f_wb</b></font></summary>\n",
        "           &emsp; &emsp; $f_{\\mathbf{w},b}(\\mathbf{x}^{(i)}) = g(z_{\\mathbf{w},b}(\\mathbf{x}^{(i)}))$ where $g$ is the sigmoid function. You can simply call the `sigmoid` function implemented above.\n",
        "          <details>\n",
        "              <summary><font size=\"2\" color=\"blue\"><b>&emsp; &emsp; More hints to calculate f</b></font></summary>\n",
        "               &emsp; &emsp; You can compute f_wb as <code>f_wb = sigmoid(z_wb) </code>\n",
        "           </details>\n",
        "    </details>\n",
        "\n",
        "     <details>\n",
        "          <summary><font size=\"2\" color=\"darkblue\"><b>Hint to calculate loss</b></font></summary>\n",
        "          &emsp; &emsp; You can use the <a href=\"https://numpy.org/doc/stable/reference/generated/numpy.log.html\">np.log</a> function to calculate the log\n",
        "          <details>\n",
        "              <summary><font size=\"2\" color=\"blue\"><b>&emsp; &emsp; More hints to calculate loss</b></font></summary>\n",
        "              &emsp; &emsp; You can compute loss as <code>loss =  -y[i] * np.log(f_wb) - (1 - y[i]) * np.log(1 - f_wb)</code>\n",
        "          </details>\n",
        "    </details>\n",
        "        \n",
        "    </details>\n",
        "\n",
        "</details>"
      ]
    },
    {
      "cell_type": "markdown",
      "metadata": {
        "id": "K8xIG398azo1"
      },
      "source": [
        "Run the cells below to check your implementation of the `compute_cost` function with two different initializations of the parameters $w$"
      ]
    },
    {
      "cell_type": "markdown",
      "source": [
        "##**DONE HERE**"
      ],
      "metadata": {
        "id": "F6bSnQifhcIr"
      }
    },
    {
      "cell_type": "code",
      "source": [
        "m, n = X_train.shape\n",
        "\n",
        "# Compute and display cost with w initialized to zeroes\n",
        "initial_w = np.zeros(n)\n",
        "initial_b = 0.\n",
        "cost = compute_cost(X_train, y_train, initial_w, initial_b)\n",
        "print('Cost at initial w (zeros): {:.3f}'.format(cost))"
      ],
      "metadata": {
        "colab": {
          "base_uri": "https://localhost:8080/"
        },
        "id": "sqYpe9_DXDAf",
        "outputId": "693db4a2-7809-4248-c5c4-7bad41f1ff9b"
      },
      "execution_count": 27,
      "outputs": [
        {
          "output_type": "stream",
          "name": "stdout",
          "text": [
            "Cost at initial w (zeros): 0.246\n"
          ]
        }
      ]
    },
    {
      "cell_type": "markdown",
      "metadata": {
        "id": "MRw-WqzDazo1"
      },
      "source": [
        "**Expected Output**:\n",
        "<table>\n",
        "  <tr>\n",
        "    <td> <b>Cost at initial w (zeros)<b></td>\n",
        "    <td> 0.693 </td>\n",
        "  </tr>\n",
        "</table>"
      ]
    },
    {
      "cell_type": "code",
      "source": [
        "# Compute and display cost with non-zero w\n",
        "test_w = np.array([0.2, 0.2])\n",
        "test_b = -24.\n",
        "cost = compute_cost(X_train, y_train, test_w, test_b)\n",
        "print('Cost at test w,b: {:.3f}'.format(cost))\n"
      ],
      "metadata": {
        "colab": {
          "base_uri": "https://localhost:8080/"
        },
        "id": "fm7Kyq5wkExM",
        "outputId": "e6ee5f3d-4175-4135-8046-5d15359ebd19"
      },
      "execution_count": 28,
      "outputs": [
        {
          "output_type": "stream",
          "name": "stdout",
          "text": [
            "Cost at test w,b: 298.890\n"
          ]
        }
      ]
    },
    {
      "cell_type": "markdown",
      "source": [
        "# Compute and display cost with non-zero w\n",
        "test_w = np.array([0.2, 0.2])\n",
        "test_b = -24.\n",
        "cost = compute_cost(X_train, y_train, test_w, test_b)\n",
        "\n",
        "print('Cost at test w,b: {:.3f}'.format(cost))\n",
        "\n",
        "\n",
        "# UNIT TESTS\n",
        "compute_cost_test(compute_cost)\n"
      ],
      "metadata": {
        "id": "s7k9G2-skXbd"
      }
    },
    {
      "cell_type": "markdown",
      "metadata": {
        "id": "S78MDPFcazo1"
      },
      "source": [
        "**Expected Output**:\n",
        "<table>\n",
        "  <tr>\n",
        "    <td> <b>Cost at test w,b<b></td>\n",
        "    <td> 0.218 </td>\n",
        "  </tr>\n",
        "</table>"
      ]
    },
    {
      "cell_type": "markdown",
      "metadata": {
        "id": "0k7rKHN_azo1"
      },
      "source": [
        "<a name=\"2.5\"></a>\n",
        "### 2.5 Gradient for logistic regression\n",
        "\n",
        "In this section, you will implement the gradient for logistic regression.\n",
        "\n",
        "Recall that the gradient descent algorithm is:\n",
        "\n",
        "$$\\begin{align*}& \\text{repeat until convergence:} \\; \\lbrace \\newline \\; & b := b -  \\alpha \\frac{\\partial J(\\mathbf{w},b)}{\\partial b} \\newline       \\; & w_j := w_j -  \\alpha \\frac{\\partial J(\\mathbf{w},b)}{\\partial w_j} \\tag{1}  \\; & \\text{for j := 0..n-1}\\newline & \\rbrace\\end{align*}$$\n",
        "\n",
        "where, parameters $b$, $w_j$ are all updated simultaniously"
      ]
    },
    {
      "cell_type": "markdown",
      "metadata": {
        "id": "U-fTfAhgazo1"
      },
      "source": [
        "\n",
        "<a name='ex-03'></a>\n",
        "### Exercise 3\n",
        "\n",
        "Please complete the `compute_gradient` function to compute $\\frac{\\partial J(\\mathbf{w},b)}{\\partial w}$, $\\frac{\\partial J(\\mathbf{w},b)}{\\partial b}$ from equations (2) and (3) below.\n",
        "\n",
        "$$\n",
        "\\frac{\\partial J(\\mathbf{w},b)}{\\partial b}  = \\frac{1}{m} \\sum\\limits_{i = 0}^{m-1} (f_{\\mathbf{w},b}(\\mathbf{x}^{(i)}) - \\mathbf{y}^{(i)}) \\tag{2}\n",
        "$$\n",
        "$$\n",
        "\\frac{\\partial J(\\mathbf{w},b)}{\\partial w_j}  = \\frac{1}{m} \\sum\\limits_{i = 0}^{m-1} (f_{\\mathbf{w},b}(\\mathbf{x}^{(i)}) - \\mathbf{y}^{(i)})x_{j}^{(i)} \\tag{3}\n",
        "$$\n",
        "* m is the number of training examples in the dataset\n",
        "\n",
        "    \n",
        "*  $f_{\\mathbf{w},b}(x^{(i)})$ is the model's prediction, while $y^{(i)}$ is the actual label\n",
        "\n",
        "\n",
        "- **Note**: While this gradient looks identical to the linear regression gradient, the formula is actually different because linear and logistic regression have different definitions of $f_{\\mathbf{w},b}(x)$.\n",
        "\n",
        "As before, you can use the sigmoid function that you implemented above and if you get stuck, you can check out the hints presented after the cell below to help you with the implementation."
      ]
    },
    {
      "cell_type": "code",
      "execution_count": 55,
      "metadata": {
        "id": "56kluMvcazo2"
      },
      "outputs": [],
      "source": [
        "# UNQ_C3\n",
        "# GRADED FUNCTION: compute_gradient\n",
        "def compute_gradient(X, y, w, b, lambda_=None):\n",
        "    \"\"\"\n",
        "    Computes the gradient for logistic regression\n",
        "\n",
        "    Args:\n",
        "      X : (ndarray Shape (m,n)) variable such as house size\n",
        "      y : (array_like Shape (m,1)) actual value\n",
        "      w : (array_like Shape (n,1)) values of parameters of the model\n",
        "      b : (scalar)                 value of parameter of the model\n",
        "      lambda_: unused placeholder.\n",
        "    Returns\n",
        "      dj_dw: (array_like Shape (n,1)) The gradient of the cost w.r.t. the parameters w.\n",
        "      dj_db: (scalar)                The gradient of the cost w.r.t. the parameter b.\n",
        "    \"\"\"\n",
        "    m, n = X.shape\n",
        "    dj_dw = np.zeros(w.shape)\n",
        "    dj_db = 0.\n",
        "\n",
        "    ### START CODE HERE ###\n",
        "    m, n = X.shape  # m is number of examples, n is number of features\n",
        "    dj_dw = np.zeros(w.shape)  # Gradient for weights, shape (n,)\n",
        "    dj_db = 0.0  # Gradient for bias, scalar\n",
        "\n",
        "    # Compute predictions\n",
        "    z_wb = X @ w + b  # X is (m, n), w is (n,), z_wb is (m,)\n",
        "    f_wb = 1 / (1 + np.exp(-z_wb))  # Sigmoid function, f_wb is (m,)\n",
        "\n",
        "    # Compute error for each training example\n",
        "    err = f_wb - y  # Error vector, shape (m,)\n",
        "\n",
        "    # Compute gradient for each feature\n",
        "    dj_dw = (1/m) * (X.T @ err)  # X.T is (n, m), err is (m,), dj_dw is (n,)\n",
        "\n",
        "    # Compute gradient for the bias term\n",
        "    dj_db = (1/m) * np.sum(err)  # Scalar\n",
        "\n",
        "    # Average the gradients across all examples\n",
        "    dj_dw /= m\n",
        "    dj_db /= m\n",
        "    ### END CODE HERE ###\n",
        "\n",
        "\n",
        "    return dj_db, dj_dw"
      ]
    },
    {
      "cell_type": "markdown",
      "metadata": {
        "id": "zn4Ys6nEazo2"
      },
      "source": [
        " <details>\n",
        "  <summary><font size=\"3\" color=\"darkgreen\"><b>Click for hints</b></font></summary>\n",
        "    \n",
        "    \n",
        "* Here's how you can structure the overall implementation for this function\n",
        "    ```python\n",
        "       def compute_gradient(X, y, w, b, lambda_=None):\n",
        "            m, n = X.shape\n",
        "            dj_dw = np.zeros(w.shape)\n",
        "            dj_db = 0.\n",
        "        \n",
        "            ### START CODE HERE ###\n",
        "            err  = 0.\n",
        "            for i in range(m):\n",
        "                # Calculate f_wb (exactly as you did in the compute_cost function above)\n",
        "                f_wb =\n",
        "        \n",
        "                # Calculate the  gradient for b from this example\n",
        "                dj_db_i = # Your code here to calculate the error\n",
        "        \n",
        "                # add that to dj_db\n",
        "                dj_db += dj_db_i\n",
        "        \n",
        "                # get dj_dw for each attribute\n",
        "                for j in range(n):\n",
        "                    # You code here to calculate the gradient from the i-th example for j-th attribute\n",
        "                    dj_dw_ij =  \n",
        "                    dj_dw[j] += dj_dw_ij\n",
        "        \n",
        "            # divide dj_db and dj_dw by total number of examples\n",
        "            dj_dw = dj_dw / m\n",
        "            dj_db = dj_db / m\n",
        "            ### END CODE HERE ###\n",
        "       \n",
        "            return dj_db, dj_dw\n",
        "    ```\n",
        "  \n",
        "    If you're still stuck, you can check the hints presented below to figure out how to calculate `f_wb`, `dj_db_i` and `dj_dw_ij`\n",
        "    \n",
        "    <details>\n",
        "          <summary><font size=\"2\" color=\"darkblue\"><b>Hint to calculate f_wb</b></font></summary>\n",
        "           &emsp; &emsp; Recall that you calculated f_wb in <code>compute_cost</code> above — for detailed hints on how to calculate each intermediate term, check out the hints section below that exercise\n",
        "           <details>\n",
        "              <summary><font size=\"2\" color=\"blue\"><b>&emsp; &emsp; More hints to calculate f_wb</b></font></summary>\n",
        "              &emsp; &emsp; You can calculate f_wb as\n",
        "               <pre>\n",
        "               for i in range(m):   \n",
        "                   # Calculate f_wb (exactly how you did it in the compute_cost function above)\n",
        "                   z_wb = 0\n",
        "                   # Loop over each feature\n",
        "                   for j in range(n):\n",
        "                       # Add the corresponding term to z_wb\n",
        "                       z_wb_ij = X[i, j] * w[j]\n",
        "                       z_wb += z_wb_ij\n",
        "            \n",
        "                   # Add bias term\n",
        "                   z_wb += b\n",
        "        \n",
        "                   # Calculate the prediction from the model\n",
        "                   f_wb = sigmoid(z_wb)\n",
        "    </details>\n",
        "        \n",
        "    </details>\n",
        "    <details>\n",
        "          <summary><font size=\"2\" color=\"darkblue\"><b>Hint to calculate dj_db_i</b></font></summary>\n",
        "           &emsp; &emsp; You can calculate dj_db_i as <code>dj_db_i = f_wb - y[i]</code>\n",
        "    </details>\n",
        "        \n",
        "    <details>\n",
        "          <summary><font size=\"2\" color=\"darkblue\"><b>Hint to calculate dj_dw_ij</b></font></summary>\n",
        "        &emsp; &emsp; You can calculate dj_dw_ij as <code>dj_dw_ij = (f_wb - y[i])* X[i][j]</code>\n",
        "    </details>\n",
        "\n",
        "</details>"
      ]
    },
    {
      "cell_type": "markdown",
      "metadata": {
        "id": "HyQ6LhWBazo2"
      },
      "source": [
        "Run the cells below to check your implementation of the `compute_gradient` function with two different initializations of the parameters $w$"
      ]
    },
    {
      "cell_type": "code",
      "source": [
        "print(\"Shape of X_train:\", X_train.shape)\n",
        "print(\"Shape of w:\", initial_w.shape)\n",
        "print(\"Shape of y_train:\", y_train.shape)\n"
      ],
      "metadata": {
        "colab": {
          "base_uri": "https://localhost:8080/"
        },
        "id": "LD26Y9zwPfay",
        "outputId": "67e3029e-27e2-4799-88f5-d4f403244dd3"
      },
      "execution_count": 56,
      "outputs": [
        {
          "output_type": "stream",
          "name": "stdout",
          "text": [
            "Shape of X_train: (118, 2)\n",
            "Shape of w: (2,)\n",
            "Shape of y_train: (118,)\n"
          ]
        }
      ]
    },
    {
      "cell_type": "code",
      "source": [
        "# X_train has shape (118, 2), meaning 118 examples and 2 features\n",
        "# y_train has shape (118,), meaning 118 labels\n",
        "\n",
        "# Initialize weights with 2 features\n",
        "initial_w = np.zeros(2)  # Since there are 2 features\n",
        "initial_b = 0.0\n",
        "\n",
        "# Ensure compute_cost uses the correct shapes\n",
        "cost = compute_cost(X_train, y_train, initial_w, initial_b)\n",
        "print(f\"Cost at initial w (zeros): {cost}\")\n",
        "\n",
        "# Compute gradient with correct shapes\n",
        "dj_db, dj_dw = compute_gradient(X_train, y_train, initial_w, initial_b)\n",
        "print(f\"dj_db: {dj_db}\")\n",
        "print(f\"dj_dw: {dj_dw}\")\n"
      ],
      "metadata": {
        "colab": {
          "base_uri": "https://localhost:8080/"
        },
        "id": "lSvnFsoMP2Ru",
        "outputId": "be465502-1f34-44a7-c854-a376b655b6fe"
      },
      "execution_count": 57,
      "outputs": [
        {
          "output_type": "stream",
          "name": "stdout",
          "text": [
            "Cost at initial w (zeros): 0.2457627118644068\n",
            "dj_db: 7.181844297615628e-05\n",
            "dj_dw: 0    1.592211e-04\n",
            "1    6.590779e-07\n",
            "dtype: float64\n"
          ]
        }
      ]
    },
    {
      "cell_type": "code",
      "execution_count": 59,
      "metadata": {
        "colab": {
          "base_uri": "https://localhost:8080/"
        },
        "id": "UnkAR95Cazo3",
        "outputId": "734469a9-6f60-4b6e-f836-22c74c74f34b"
      },
      "outputs": [
        {
          "output_type": "stream",
          "name": "stdout",
          "text": [
            "dj_db at initial w (zeros):7.181844297615628e-05\n",
            "dj_dw at initial w (zeros):[0.0001592211289859234, 6.590778511921775e-07]\n"
          ]
        }
      ],
      "source": [
        "# Compute and display gradient with w initialized to zeroes\n",
        "initial_w = np.zeros(n)\n",
        "initial_b = 0.\n",
        "\n",
        "dj_db, dj_dw = compute_gradient(X_train, y_train, initial_w, initial_b)\n",
        "print(f'dj_db at initial w (zeros):{dj_db}' )\n",
        "print(f'dj_dw at initial w (zeros):{dj_dw.tolist()}' )"
      ]
    },
    {
      "cell_type": "markdown",
      "metadata": {
        "id": "o1wPhSmaazo3"
      },
      "source": [
        "**Expected Output**:\n",
        "<table>\n",
        "  <tr>\n",
        "    <td> <b>dj_db at initial w (zeros)<b></td>\n",
        "    <td> -0.1 </td>\n",
        "  </tr>\n",
        "  <tr>\n",
        "    <td> <b>ddj_dw at initial w (zeros):<b></td>\n",
        "    <td> [-12.00921658929115, -11.262842205513591] </td>\n",
        "  </tr>\n",
        "</table>"
      ]
    },
    {
      "cell_type": "code",
      "execution_count": 61,
      "metadata": {
        "colab": {
          "base_uri": "https://localhost:8080/"
        },
        "id": "qOkFJlBFazo3",
        "outputId": "32a412ff-0c7c-4ad4-b8b5-73625aba01d6"
      },
      "outputs": [
        {
          "output_type": "stream",
          "name": "stdout",
          "text": [
            "dj_db at test_w: -0.004165469692309175\n",
            "dj_dw at test_w: [-7.28928899361473e-05, -0.000775194987059848]\n"
          ]
        }
      ],
      "source": [
        "# Compute and display cost and gradient with non-zero w\n",
        "test_w = np.array([ 0.2, -0.5])\n",
        "test_b = -24\n",
        "dj_db, dj_dw  = compute_gradient(X_train, y_train, test_w, test_b)\n",
        "\n",
        "print('dj_db at test_w:', dj_db)\n",
        "print('dj_dw at test_w:', dj_dw.tolist())\n",
        "\n",
        "# UNIT TESTS\n",
        "#compute_gradient_test(compute_gradient)\n"
      ]
    },
    {
      "cell_type": "markdown",
      "metadata": {
        "id": "ImaNfDw4azo3"
      },
      "source": [
        "**Expected Output**:\n",
        "<table>\n",
        "  <tr>\n",
        "    <td> <b>dj_db at initial w (zeros)<b></td>\n",
        "    <td> -0.5999999999991071 </td>\n",
        "  </tr>\n",
        "  <tr>\n",
        "    <td> <b>ddj_dw at initial w (zeros):<b></td>\n",
        "    <td>  [-44.8313536178737957, -44.37384124953978] </td>\n",
        "  </tr>\n",
        "</table>"
      ]
    },
    {
      "cell_type": "markdown",
      "metadata": {
        "id": "R1ihcMH_azo4"
      },
      "source": [
        "<a name=\"2.6\"></a>\n",
        "### 2.6 Learning parameters using gradient descent\n",
        "\n",
        "Similar to the previous assignment, you will now find the optimal parameters of a logistic regression model by using gradient descent.\n",
        "- You don't need to implement anything for this part. Simply run the cells below.\n",
        "\n",
        "- A good way to verify that gradient descent is working correctly is to look\n",
        "at the value of $J(\\mathbf{w},b)$ and check that it is decreasing with each step.\n",
        "\n",
        "- Assuming you have implemented the gradient and computed the cost correctly, your value of $J(\\mathbf{w},b)$ should never increase, and should converge to a steady value by the end of the algorithm."
      ]
    },
    {
      "cell_type": "code",
      "execution_count": 85,
      "metadata": {
        "id": "xljEWxbJazo5"
      },
      "outputs": [],
      "source": [
        "def gradient_descent(X, y, w_in, b_in, cost_function, gradient_function, alpha, num_iters, lambda_):\n",
        "    \"\"\"\n",
        "    Performs batch gradient descent to learn theta. Updates theta by taking\n",
        "    num_iters gradient steps with learning rate alpha\n",
        "\n",
        "    Args:\n",
        "      X :    (array_like Shape (m, n)\n",
        "      y :    (array_like Shape (m,))\n",
        "      w_in : (array_like Shape (n,))  Initial values of parameters of the model\n",
        "      b_in : (scalar)                 Initial value of parameter of the model\n",
        "      cost_function:                  function to compute cost\n",
        "      alpha : (float)                 Learning rate\n",
        "      num_iters : (int)               number of iterations to run gradient descent\n",
        "      lambda_ (scalar, float)         regularization constant\n",
        "\n",
        "    Returns:\n",
        "      w : (array_like Shape (n,)) Updated values of parameters of the model after\n",
        "          running gradient descent\n",
        "      b : (scalar)                Updated value of parameter of the model after\n",
        "          running gradient descent\n",
        "    \"\"\"\n",
        "\n",
        "    # number of training examples\n",
        "    m = len(X)\n",
        "\n",
        "    # An array to store cost J and w's at each iteration primarily for graphing later\n",
        "    J_history = []\n",
        "    w_history = []\n",
        "\n",
        "    w = initial_w\n",
        "    b = initial_b\n",
        "    J_history = []\n",
        "\n",
        "    for i in range(iterations):\n",
        "        cost = compute_cost(X, y, w, b)\n",
        "        dj_db, dj_dw = compute_gradient(X, y, w, b)\n",
        "\n",
        "        # Update parameters\n",
        "        w -= alpha * dj_dw\n",
        "        b -= alpha * dj_db\n",
        "\n",
        "        # Save the cost for this iteration\n",
        "        J_history.append(cost)\n",
        "\n",
        " ## given\n",
        "    for i in range(num_iters):\n",
        "\n",
        "        # Calculate the gradient and update the parameters\n",
        "        dj_db, dj_dw = gradient_function(X, y, w_in, b_in, lambda_)\n",
        "\n",
        "        # Update Parameters using w, b, alpha and gradient\n",
        "        w_in = w_in - alpha * dj_dw\n",
        "        b_in = b_in - alpha * dj_db\n",
        "\n",
        "        # Save cost J at each iteration\n",
        "        if i<100000:      # prevent resource exhaustion\n",
        "            cost =  cost_function(X, y, w_in, b_in, lambda_)\n",
        "            J_history.append(cost)\n",
        "\n",
        "        # Print cost every at intervals 10 times or as many iterations if < 10\n",
        "        if i% math.ceil(num_iters/10) == 0 or i == (num_iters-1):\n",
        "            w_history.append(w_in)\n",
        "            print(f\"Iteration {i:4}: Cost {float(J_history[-1]):8.2f}   \")\n",
        "\n",
        "    return w_in, b_in, J_history, w_history #return w and J,w history for graphing"
      ]
    },
    {
      "cell_type": "markdown",
      "metadata": {
        "id": "y_TTSMcMazo5"
      },
      "source": [
        "Now let's run the gradient descent algorithm above to learn the parameters for our dataset.\n",
        "\n",
        "**Note**\n",
        "\n",
        "The code block below takes a couple of minutes to run, especially with a non-vectorized version. You can reduce the `iterations` to test your implementation and iterate faster. If you have time, try running 100,000 iterations for better results."
      ]
    },
    {
      "cell_type": "code",
      "source": [
        "def compute_cost(X, y, w, b):\n",
        "    m = X.shape[0]\n",
        "    predictions = sigmoid(np.dot(X, w) + b)\n",
        "    cost = -np.mean(y * np.log(predictions + 1e-9) + (1 - y) * np.log(1 - predictions + 1e-9))\n",
        "    return cost"
      ],
      "metadata": {
        "id": "zPVduQFmd5ul"
      },
      "execution_count": 89,
      "outputs": []
    },
    {
      "cell_type": "code",
      "source": [
        "def compute_gradient(X, y, w, b):\n",
        "    m, n = X.shape\n",
        "    dj_dw = np.zeros(n)\n",
        "    dj_db = 0.\n",
        "\n",
        "    for i in range(m):\n",
        "        xi = X[i]\n",
        "        yi = y[i]\n",
        "        f_wb = sigmoid(np.dot(xi, w) + b)\n",
        "        error = f_wb - yi\n",
        "        dj_db += error\n",
        "        dj_dw += error * xi\n",
        "\n",
        "    dj_db /= m\n",
        "    dj_dw /= m\n",
        "    return dj_db, dj_dw\n",
        "\n",
        "def gradient_descent(X, y, initial_w, initial_b, alpha, iterations):\n",
        "    w = initial_w\n",
        "    b = initial_b\n",
        "    J_history = []\n",
        "\n",
        "    for _ in range(iterations):\n",
        "        cost = compute_cost(X, y, w, b)\n",
        "        dj_db, dj_dw = compute_gradient(X, y, w, b)\n",
        "        w -= alpha * dj_dw\n",
        "        b -= alpha * dj_db\n",
        "        J_history.append(cost)\n",
        "\n",
        "    return w, b, J_history\n",
        "\n",
        "def predict(X, w, b):\n",
        "    return (sigmoid(np.dot(X, w) + b) >= 0.5).astype(int)"
      ],
      "metadata": {
        "id": "4BJ6FdEfeUJn"
      },
      "execution_count": 91,
      "outputs": []
    },
    {
      "cell_type": "code",
      "execution_count": 96,
      "metadata": {
        "id": "qFBGhCHKazo5"
      },
      "outputs": [],
      "source": [
        "np.random.seed(1)\n",
        "intial_w = 0.01 * (np.random.rand(2).reshape(-1,1) - 0.5)\n",
        "initial_b = -8\n",
        "\n",
        "X_train = np.random.randn(118, 2)\n",
        "y_train = (np.random.rand(118) > 0.5).astype(int)\n",
        "\n",
        "# Some gradient descent settings\n",
        "iterations = 10000\n",
        "alpha = 0.001\n",
        "\n",
        "w, b, J_history = gradient_descent(X_train, y_train, initial_w, initial_b, alpha, iterations)"
      ]
    },
    {
      "cell_type": "code",
      "source": [
        "p = predict(X_train, w, b)\n",
        "accuracy = np.mean(p == y_train)\n",
        "print('Train Accuracy: {:.2f}'.format(accuracy))"
      ],
      "metadata": {
        "colab": {
          "base_uri": "https://localhost:8080/"
        },
        "id": "Tw04mkokfBIQ",
        "outputId": "e9eac73e-c262-4cb2-c613-7bc36cdbb264"
      },
      "execution_count": 99,
      "outputs": [
        {
          "output_type": "stream",
          "name": "stdout",
          "text": [
            "Train Accuracy: 0.47\n"
          ]
        }
      ]
    },
    {
      "cell_type": "markdown",
      "metadata": {
        "id": "I-VvBzPeazo5"
      },
      "source": [
        "<details>\n",
        "<summary>\n",
        "    <b>Expected Output: Cost     0.30, (Click to see details):</b>\n",
        "</summary>\n",
        "\n",
        "    # With the following settings\n",
        "    np.random.seed(1)\n",
        "    intial_w = 0.01 * (np.random.rand(2).reshape(-1,1) - 0.5)\n",
        "    initial_b = -8\n",
        "    iterations = 10000\n",
        "    alpha = 0.001\n",
        "    #\n",
        "\n",
        "```\n",
        "Iteration    0: Cost     1.01   \n",
        "Iteration 1000: Cost     0.31   \n",
        "Iteration 2000: Cost     0.30   \n",
        "Iteration 3000: Cost     0.30   \n",
        "Iteration 4000: Cost     0.30   \n",
        "Iteration 5000: Cost     0.30   \n",
        "Iteration 6000: Cost     0.30   \n",
        "Iteration 7000: Cost     0.30   \n",
        "Iteration 8000: Cost     0.30   \n",
        "Iteration 9000: Cost     0.30   \n",
        "Iteration 9999: Cost     0.30   \n",
        "```"
      ]
    },
    {
      "cell_type": "markdown",
      "metadata": {
        "id": "7dkJeo8Gazo5"
      },
      "source": [
        "<a name=\"2.7\"></a>\n",
        "### 2.7 Plotting the decision boundary\n",
        "\n",
        "We will now use the final parameters from gradient descent to plot the linear fit. If you implemented the previous parts correctly, you should see the following plot:   \n",
        "<img src=\"images/figure 2.png\"  width=\"450\" height=\"450\">\n",
        "\n",
        "We will use a helper function in the `utils.py` file to create this plot."
      ]
    },
    {
      "cell_type": "code",
      "source": [
        "## the library is downloaded but is not working...\n",
        "\n",
        "def plot_decision_boundary(w, b, X, y):\n",
        "    # Set the limits of the plot\n",
        "    x_min, x_max = X[:, 0].min() - 1, X[:, 0].max() + 1\n",
        "    y_min, y_max = X[:, 1].min() - 1, X[:, 1].max() + 1\n",
        "\n",
        "    # Create a mesh grid\n",
        "    xx, yy = np.meshgrid(np.linspace(x_min, x_max, 100),\n",
        "                         np.linspace(y_min, y_max, 100))\n",
        "\n",
        "    # Compute the decision boundary\n",
        "    Z = np.c_[xx.ravel(), yy.ravel()] @ w + b\n",
        "    Z = 1 / (1 + np.exp(-Z))\n",
        "    Z = Z.reshape(xx.shape)\n",
        "\n",
        "    # Plot the contour for the decision boundary\n",
        "    plt.contourf(xx, yy, Z, levels=[0, 0.5, 1], cmap=\"RdYlBu\", alpha=0.3)\n",
        "    plt.colorbar()\n",
        "\n",
        "    # Plot the data points\n",
        "    plt.scatter(X[:, 0], X[:, 1], c=y, cmap=\"RdYlBu\", edgecolor='k')\n",
        "\n",
        "    # Set plot labels and title\n",
        "    plt.xlabel('Feature 1')\n",
        "    plt.ylabel('Feature 2')\n",
        "    plt.title('Decision Boundary')\n",
        "\n",
        "    plt.show()\n",
        "\n",
        "# Example usage\n",
        "np.random.seed(1)\n",
        "X_train = np.random.rand(118, 2)  # Example training data\n",
        "y_train = np.random.randint(0, 2, 118)  # Example binary labels\n",
        "\n",
        "# Initialize weights and bias\n",
        "initial_w = np.array([0.2, -0.5])\n",
        "initial_b = -0.5\n",
        "\n",
        "# Plot decision boundary\n",
        "plot_decision_boundary(initial_w, initial_b, X_train, y_train)\n"
      ],
      "metadata": {
        "colab": {
          "base_uri": "https://localhost:8080/",
          "height": 472
        },
        "id": "H_AP5bQ1V4BT",
        "outputId": "bf15dfdd-5394-442f-b6e4-b429a2f1ccd0"
      },
      "execution_count": 71,
      "outputs": [
        {
          "output_type": "display_data",
          "data": {
            "text/plain": [
              "<Figure size 640x480 with 2 Axes>"
            ],
            "image/png": "[encoded data removed]"
          },
          "metadata": {}
        }
      ]
    },
    {
      "cell_type": "markdown",
      "metadata": {
        "id": "nlQ3UR0uazo6"
      },
      "source": [
        "<a name=\"2.8\"></a>\n",
        "### 2.8 Evaluating logistic regression\n",
        "\n",
        "We can evaluate the quality of the parameters we have found by seeing how well the learned model predicts on our training set.\n",
        "\n",
        "You will implement the `predict` function below to do this.\n"
      ]
    },
    {
      "cell_type": "markdown",
      "metadata": {
        "id": "V9YPoOB8azo6"
      },
      "source": [
        "<a name='ex-04'></a>\n",
        "### Exercise 4\n",
        "\n",
        "Please complete the `predict` function to produce `1` or `0` predictions given a dataset and a learned parameter vector $w$ and $b$.\n",
        "- First you need to compute the prediction from the model $f(x^{(i)}) = g(w \\cdot x^{(i)})$ for every example\n",
        "    - You've implemented this before in the parts above\n",
        "- We interpret the output of the model ($f(x^{(i)})$) as the probability that $y^{(i)}=1$ given $x^{(i)}$ and parameterized by $w$.\n",
        "- Therefore, to get a final prediction ($y^{(i)}=0$ or $y^{(i)}=1$) from the logistic regression model, you can use the following heuristic -\n",
        "\n",
        "  if $f(x^{(i)}) >= 0.5$, predict $y^{(i)}=1$\n",
        "  \n",
        "  if $f(x^{(i)}) < 0.5$, predict $y^{(i)}=0$\n",
        "    \n",
        "If you get stuck, you can check out the hints presented after the cell below to help you with the implementation."
      ]
    },
    {
      "cell_type": "code",
      "execution_count": 76,
      "metadata": {
        "id": "ciMslZQQazo6"
      },
      "outputs": [],
      "source": [
        "# UNQ_C4\n",
        "# GRADED FUNCTION: predict\n",
        "\n",
        "def predict(X, w, b):\n",
        "    \"\"\"\n",
        "    Predict whether the label is 0 or 1 using learned logistic\n",
        "    regression parameters w\n",
        "\n",
        "    Args:\n",
        "    X : (ndarray Shape (m, n))\n",
        "    w : (array_like Shape (n,))      Parameters of the model\n",
        "    b : (scalar, float)              Parameter of the model\n",
        "\n",
        "    Returns:\n",
        "    p: (ndarray (m,1))\n",
        "        The predictions for X using a threshold at 0.5\n",
        "    \"\"\"\n",
        "    # number of training examples\n",
        "    m, n = X.shape\n",
        "    p = np.zeros(m)\n",
        "\n",
        "    ### START CODE HERE ###\n",
        "    # Loop over each example\n",
        "\n",
        "    z = X @ w + b\n",
        "\n",
        "    # Calculate the predictions using the sigmoid function\n",
        "    f_wb = 1 / (1 + np.exp(-z))\n",
        "\n",
        "    # Apply the threshold\n",
        "    p = (f_wb >= 0.5).astype(int)\n",
        "\n",
        "    ### END CODE HERE ###\n",
        "    return p"
      ]
    },
    {
      "cell_type": "markdown",
      "metadata": {
        "id": "hpi6Z3-wazo7"
      },
      "source": [
        "<details>\n",
        "  <summary><font size=\"3\" color=\"darkgreen\"><b>Click for hints</b></font></summary>\n",
        "    \n",
        "    \n",
        "* Here's how you can structure the overall implementation for this function\n",
        "    ```python\n",
        "       def predict(X, w, b):\n",
        "            # number of training examples\n",
        "            m, n = X.shape   \n",
        "            p = np.zeros(m)\n",
        "   \n",
        "            ### START CODE HERE ###\n",
        "            # Loop over each example\n",
        "            for i in range(m):   \n",
        "                \n",
        "                # Calculate f_wb (exactly how you did it in the compute_cost function above)\n",
        "                # using a couple of lines of code\n",
        "                f_wb =\n",
        "\n",
        "                # Calculate the prediction for that training example\n",
        "                p[i] = # Your code here to calculate the prediction based on f_wb\n",
        "        \n",
        "            ### END CODE HERE ###\n",
        "            return p\n",
        "    ```\n",
        "  \n",
        "    If you're still stuck, you can check the hints presented below to figure out how to calculate `f_wb` and `p[i]`\n",
        "    \n",
        "    <details>\n",
        "          <summary><font size=\"2\" color=\"darkblue\"><b>Hint to calculate f_wb</b></font></summary>\n",
        "           &emsp; &emsp; Recall that you calculated f_wb in <code>compute_cost</code> above — for detailed hints on how to calculate each intermediate term, check out the hints section below that exercise\n",
        "           <details>\n",
        "              <summary><font size=\"2\" color=\"blue\"><b>&emsp; &emsp; More hints to calculate f_wb</b></font></summary>\n",
        "              &emsp; &emsp; You can calculate f_wb as\n",
        "               <pre>\n",
        "               for i in range(m):   \n",
        "                   # Calculate f_wb (exactly how you did it in the compute_cost function above)\n",
        "                   z_wb = 0\n",
        "                   # Loop over each feature\n",
        "                   for j in range(n):\n",
        "                       # Add the corresponding term to z_wb\n",
        "                       z_wb_ij = X[i, j] * w[j]\n",
        "                       z_wb += z_wb_ij\n",
        "            \n",
        "                   # Add bias term\n",
        "                   z_wb += b\n",
        "        \n",
        "                   # Calculate the prediction from the model\n",
        "                   f_wb = sigmoid(z_wb)\n",
        "    </details>\n",
        "        \n",
        "    </details>\n",
        "    <details>\n",
        "          <summary><font size=\"2\" color=\"darkblue\"><b>Hint to calculate p[i]</b></font></summary>\n",
        "           &emsp; &emsp; As an example, if you'd like to say x = 1 if y is less than 3 and 0 otherwise, you can express it in code as <code>x = y < 3 </code>. Now do the same for p[i] = 1 if f_wb >= 0.5 and 0 otherwise.\n",
        "           <details>\n",
        "              <summary><font size=\"2\" color=\"blue\"><b>&emsp; &emsp; More hints to calculate p[i]</b></font></summary>\n",
        "              &emsp; &emsp; You can compute p[i] as <code>p[i] = f_wb >= 0.5</code>\n",
        "          </details>\n",
        "    </details>\n",
        "\n",
        "</details>"
      ]
    },
    {
      "cell_type": "markdown",
      "metadata": {
        "id": "Sy917GB0azo7"
      },
      "source": [
        "Once you have completed the function `predict`, let's run the code below to report the training accuracy of your classifier by computing the percentage of examples it got correct."
      ]
    },
    {
      "cell_type": "code",
      "execution_count": 78,
      "metadata": {
        "colab": {
          "base_uri": "https://localhost:8080/"
        },
        "id": "uCr-ccIUazo7",
        "outputId": "cad4232c-6475-4765-b81a-ba0c964b3ffc"
      },
      "outputs": [
        {
          "output_type": "stream",
          "name": "stdout",
          "text": [
            "Output of predict: shape (4,), value [0 1 1 1]\n"
          ]
        }
      ],
      "source": [
        "# Test your predict code\n",
        "np.random.seed(1)\n",
        "tmp_w = np.random.randn(2)\n",
        "tmp_b = 0.3\n",
        "tmp_X = np.random.randn(4, 2) - 0.5\n",
        "\n",
        "tmp_p = predict(tmp_X, tmp_w, tmp_b)\n",
        "print(f'Output of predict: shape {tmp_p.shape}, value {tmp_p}')\n",
        "\n",
        "# UNIT TESTS\n",
        "#predict_test(predict)"
      ]
    },
    {
      "cell_type": "markdown",
      "metadata": {
        "id": "SWtnA8k8azo7"
      },
      "source": [
        "**Expected output**\n",
        "\n",
        "<table>\n",
        "  <tr>\n",
        "    <td> <b>Output of predict: shape (4,),value [0. 1. 1. 1.]<b></td>\n",
        "  </tr>\n",
        "</table>"
      ]
    },
    {
      "cell_type": "markdown",
      "metadata": {
        "id": "B4s-8d3bazo7"
      },
      "source": [
        "Now let's use this to compute the accuracy on the training set"
      ]
    },
    {
      "cell_type": "markdown",
      "source": [
        "stopped here..."
      ],
      "metadata": {
        "id": "fNpuq-tGYVi_"
      }
    },
    {
      "cell_type": "code",
      "source": [
        "#w, b, J_history, _ = gradient_descent(X_train, y_train, initial_w, initial_b,\n",
        "                                     #  compute_cost, compute_gradient, alpha, iterations, 0)"
      ],
      "metadata": {
        "id": "GHwAKyRBYIng"
      },
      "execution_count": 103,
      "outputs": []
    },
    {
      "cell_type": "code",
      "execution_count": 104,
      "metadata": {
        "colab": {
          "base_uri": "https://localhost:8080/"
        },
        "id": "2Zqk0piGazo8",
        "outputId": "f02c180a-5cfc-4187-f24a-cd89ab155190"
      },
      "outputs": [
        {
          "output_type": "stream",
          "name": "stdout",
          "text": [
            "Train Accuracy: 45.762712\n"
          ]
        }
      ],
      "source": [
        "#Compute accuracy on our training set\n",
        "p = predict(X_train, w,b)\n",
        "print('Train Accuracy: %f'%(np.mean(p == y_train) * 100))"
      ]
    },
    {
      "cell_type": "markdown",
      "metadata": {
        "id": "ykXMpBsnazo8"
      },
      "source": [
        "<table>\n",
        "  <tr>\n",
        "    <td> <b>Train Accuracy (approx):<b></td>\n",
        "    <td> 92.00 </td>\n",
        "  </tr>\n",
        "</table>"
      ]
    },
    {
      "cell_type": "markdown",
      "metadata": {
        "id": "GeA2Cpoyazo8"
      },
      "source": [
        "<a name=\"3\"></a>\n",
        "## 3 - Regularized Logistic Regression\n",
        "\n",
        "In this part of the exercise, you will implement regularized logistic regression to predict whether microchips from a fabrication plant passes quality assurance (QA). During QA, each microchip goes through various tests to ensure it is functioning correctly.\n",
        "\n",
        "<a name=\"3.1\"></a>\n",
        "### 3.1 Problem Statement\n",
        "\n",
        "Suppose you are the product manager of the factory and you have the test results for some microchips on two different tests.\n",
        "- From these two tests, you would like to determine whether the microchips should be accepted or rejected.\n",
        "- To help you make the decision, you have a dataset of test results on past microchips, from which you can build a logistic regression model.\n",
        "\n",
        "<a name=\"3.2\"></a>\n",
        "### 3.2 Loading and visualizing the data\n",
        "\n",
        "Similar to previous parts of this exercise, let's start by loading the dataset for this task and visualizing it.\n",
        "\n",
        "- The `load_dataset()` function shown below loads the data into variables `X_train` and `y_train`\n",
        "  - `X_train` contains the test results for the microchips from two tests\n",
        "  - `y_train` contains the results of the QA  \n",
        "      - `y_train = 1` if the microchip was accepted\n",
        "      - `y_train = 0` if the microchip was rejected\n",
        "  - Both `X_train` and `y_train` are numpy arrays."
      ]
    },
    {
      "cell_type": "code",
      "execution_count": 105,
      "metadata": {
        "id": "xGKU2Xd7azo8"
      },
      "outputs": [],
      "source": [
        "# load dataset\n",
        "X_train, y_train = load_data(\"data/ex2data2.txt\")"
      ]
    },
    {
      "cell_type": "markdown",
      "metadata": {
        "id": "X0Dlsd9aazo9"
      },
      "source": [
        "#### View the variables\n",
        "\n",
        "The code below prints the first five values of `X_train` and `y_train` and the type of the variables.\n"
      ]
    },
    {
      "cell_type": "code",
      "execution_count": 106,
      "metadata": {
        "colab": {
          "base_uri": "https://localhost:8080/"
        },
        "id": "pIeHSbJ7azo9",
        "outputId": "6cad7dd6-343d-4f97-c203-39c9a213a151"
      },
      "outputs": [
        {
          "output_type": "stream",
          "name": "stdout",
          "text": [
            "X_train:           0        1\n",
            "0  0.051267  0.69956\n",
            "1 -0.092742  0.68494\n",
            "2 -0.213710  0.69225\n",
            "3 -0.375000  0.50219\n",
            "4 -0.513250  0.46564\n",
            "Type of X_train: <class 'pandas.core.frame.DataFrame'>\n",
            "y_train: [1 1 1 1 1]\n",
            "Type of y_train: <class 'numpy.ndarray'>\n"
          ]
        }
      ],
      "source": [
        "# print X_train\n",
        "print(\"X_train:\", X_train[:5])\n",
        "print(\"Type of X_train:\",type(X_train))\n",
        "\n",
        "# print y_train\n",
        "print(\"y_train:\", y_train[:5])\n",
        "print(\"Type of y_train:\",type(y_train))"
      ]
    },
    {
      "cell_type": "markdown",
      "metadata": {
        "id": "Ke9s_NKuazo9"
      },
      "source": [
        "#### Check the dimensions of your variables\n",
        "\n",
        "Another useful way to get familiar with your data is to view its dimensions. Let's print the shape of `X_train` and `y_train` and see how many training examples we have in our dataset."
      ]
    },
    {
      "cell_type": "code",
      "execution_count": 107,
      "metadata": {
        "colab": {
          "base_uri": "https://localhost:8080/"
        },
        "id": "lARqrNlaazo9",
        "outputId": "5ee98171-81ca-4663-d86e-aa17098a8e7a"
      },
      "outputs": [
        {
          "output_type": "stream",
          "name": "stdout",
          "text": [
            "The shape of X_train is: (118, 2)\n",
            "The shape of y_train is: (118,)\n",
            "We have m = 118 training examples\n"
          ]
        }
      ],
      "source": [
        "print ('The shape of X_train is: ' + str(X_train.shape))\n",
        "print ('The shape of y_train is: ' + str(y_train.shape))\n",
        "print ('We have m = %d training examples' % (len(y_train)))"
      ]
    },
    {
      "cell_type": "markdown",
      "metadata": {
        "id": "VAxS5xknazo9"
      },
      "source": [
        "#### Visualize your data\n",
        "\n",
        "The helper function `plot_data` (from `utils.py`) is used to generate a figure like Figure 3, where the axes are the two test scores, and the positive (y = 1, accepted) and negative (y = 0, rejected) examples are shown with different markers.\n",
        "\n",
        "<img src=\"images/figure 3.png\"  width=\"450\" height=\"450\">"
      ]
    },
    {
      "cell_type": "code",
      "source": [
        "import matplotlib.pyplot as plt\n",
        "\n",
        "def plot_data(X, y, pos_label=\"Positive\", neg_label=\"Negative\"):\n",
        "    \"\"\"\n",
        "    Plots data points with different markers for positive and negative examples.\n",
        "\n",
        "    Args:\n",
        "    X : ndarray, shape (m, n) - Feature data\n",
        "    y : ndarray, shape (m,) - Labels (0 or 1)\n",
        "    pos_label : str - Label for positive examples\n",
        "    neg_label : str - Label for negative examples\n",
        "    \"\"\"\n",
        "    pos = y == 1\n",
        "    neg = y == 0\n",
        "\n",
        "    plt.figure(figsize=(8, 6))\n",
        "    plt.scatter(X[pos, 0], X[pos, 1], marker='o', color='b', label=pos_label)\n",
        "    plt.scatter(X[neg, 0], X[neg, 1], marker='x', color='r', label=neg_label)\n",
        "\n",
        "    plt.xlabel('Microchip Test 1')\n",
        "    plt.ylabel('Microchip Test 2')\n",
        "    plt.legend(loc=\"upper right\")\n",
        "    plt.title('Microchip Test Results')\n",
        "    plt.show()"
      ],
      "metadata": {
        "id": "r24XR-KPgBAR"
      },
      "execution_count": 112,
      "outputs": []
    },
    {
      "cell_type": "code",
      "execution_count": 113,
      "metadata": {
        "colab": {
          "base_uri": "https://localhost:8080/",
          "height": 992
        },
        "id": "i2XI2cqkazo-",
        "outputId": "6e075199-68b1-48e1-fbd2-4fa40fd341cb"
      },
      "outputs": [
        {
          "output_type": "display_data",
          "data": {
            "text/plain": [
              "<Figure size 800x600 with 1 Axes>"
            ],
            "image/png": "[encoded data removed]"
          },
          "metadata": {}
        },
        {
          "output_type": "stream",
          "name": "stderr",
          "text": [
            "WARNING:matplotlib.legend:No artists with labels found to put in legend.  Note that artists whose label start with an underscore are ignored when legend() is called with no argument.\n"
          ]
        },
        {
          "output_type": "display_data",
          "data": {
            "text/plain": [
              "<Figure size 640x480 with 1 Axes>"
            ],
            "image/png": "[encoded data removed]"
          },
          "metadata": {}
        }
      ],
      "source": [
        "# Plot examples\n",
        "plot_data(X_train, y_train[:], pos_label=\"Accepted\", neg_label=\"Rejected\")\n",
        "\n",
        "# Set the y-axis label\n",
        "plt.ylabel('Microchip Test 2')\n",
        "# Set the x-axis label\n",
        "plt.xlabel('Microchip Test 1')\n",
        "plt.legend(loc=\"upper right\")\n",
        "plt.show()"
      ]
    },
    {
      "cell_type": "markdown",
      "metadata": {
        "id": "5Pph8i01azo-"
      },
      "source": [
        "Figure 3 shows that our dataset cannot be separated into positive and negative examples by a straight-line through the plot. Therefore, a straight forward application of logistic regression will not perform well on this dataset since logistic regression will only be able to find a linear decision boundary.\n"
      ]
    },
    {
      "cell_type": "markdown",
      "metadata": {
        "id": "H8fxE9zkazo-"
      },
      "source": [
        "<a name=\"3.3\"></a>\n",
        "### 3.3 Feature mapping\n",
        "\n",
        "One way to fit the data better is to create more features from each data point. In the provided function `map_feature`, we will map the features into all polynomial terms of $x_1$ and $x_2$ up to the sixth power.\n",
        "\n",
        "$$\\mathrm{map\\_feature}(x) =\n",
        "\\left[\\begin{array}{c}\n",
        "x_1\\\\\n",
        "x_2\\\\\n",
        "x_1^2\\\\\n",
        "x_1 x_2\\\\\n",
        "x_2^2\\\\\n",
        "x_1^3\\\\\n",
        "\\vdots\\\\\n",
        "x_1 x_2^5\\\\\n",
        "x_2^6\\end{array}\\right]$$\n",
        "\n",
        "As a result of this mapping, our vector of two features (the scores on two QA tests) has been transformed into a 27-dimensional vector.\n",
        "\n",
        "- A logistic regression classifier trained on this higher-dimension feature vector will have a more complex decision boundary and will be nonlinear when drawn in our 2-dimensional plot.\n",
        "- We have provided the `map_feature` function for you in utils.py."
      ]
    },
    {
      "cell_type": "code",
      "source": [
        "def map_feature(x1, x2, degree=6):\n",
        "    \"\"\"\n",
        "    Maps two features to higher degree features, including interaction terms.\n",
        "\n",
        "    Args:\n",
        "    x1 : ndarray, shape (m,) - First feature\n",
        "    x2 : ndarray, shape (m,) - Second feature\n",
        "    degree : int - Degree of polynomial features\n",
        "\n",
        "    Returns:\n",
        "    mapped_X : ndarray, shape (m, n) - Transformed feature matrix\n",
        "    \"\"\"\n",
        "    # Ensure x1 and x2 are column vectors\n",
        "    x1 = x1[:, np.newaxis]\n",
        "    x2 = x2[:, np.newaxis]\n",
        "\n",
        "    # Initialize output matrix with a column of ones for the bias term\n",
        "    m = x1.shape[0]\n",
        "    mapped_X = np.ones((m, 1))\n",
        "\n",
        "    # Generate polynomial features\n",
        "    for i in range(1, degree + 1):\n",
        "        for j in range(i + 1):\n",
        "            feature = (x1 ** (i - j)) * (x2 ** j)\n",
        "            mapped_X = np.hstack((mapped_X, feature))\n",
        "\n",
        "    return mapped_X"
      ],
      "metadata": {
        "id": "1Yiz-Krjg7My"
      },
      "execution_count": 115,
      "outputs": []
    },
    {
      "cell_type": "code",
      "execution_count": 116,
      "metadata": {
        "colab": {
          "base_uri": "https://localhost:8080/"
        },
        "id": "UythmoYRazo-",
        "outputId": "d737994d-7c58-49db-eb3a-dfe955f86d9a"
      },
      "outputs": [
        {
          "output_type": "stream",
          "name": "stdout",
          "text": [
            "Original shape of data: (118, 2)\n",
            "Shape after feature mapping: (118, 28)\n"
          ]
        }
      ],
      "source": [
        "print(\"Original shape of data:\", X_train.shape)\n",
        "\n",
        "mapped_X =  map_feature(X_train[:, 0], X_train[:, 1])\n",
        "print(\"Shape after feature mapping:\", mapped_X.shape)"
      ]
    },
    {
      "cell_type": "markdown",
      "metadata": {
        "id": "Vc5jR9zqazo_"
      },
      "source": [
        "Let's also print the first elements of `X_train` and `mapped_X` to see the tranformation."
      ]
    },
    {
      "cell_type": "code",
      "execution_count": 117,
      "metadata": {
        "colab": {
          "base_uri": "https://localhost:8080/"
        },
        "id": "UuKixYPPazo_",
        "outputId": "2ef3904c-b36e-4a3c-8392-55e156d28e78"
      },
      "outputs": [
        {
          "output_type": "stream",
          "name": "stdout",
          "text": [
            "X_train[0]: [ 1.62434536 -0.61175641]\n",
            "mapped X_train[0]: [ 1.          1.62434536 -0.61175641  2.63849786 -0.99370369  0.37424591\n",
            "  4.28583177 -1.61411799  0.60790461 -0.22894734  6.96167096 -2.62188507\n",
            "  0.98744703 -0.37188954  0.14006    11.30815795 -4.25884686  1.60395501\n",
            " -0.60407705  0.22750581 -0.0856826  18.36835393 -6.91783815  2.60537688\n",
            " -0.98122976  0.36954801 -0.13917814  0.05241688]\n"
          ]
        }
      ],
      "source": [
        "print(\"X_train[0]:\", X_train[0])\n",
        "print(\"mapped X_train[0]:\", mapped_X[0])"
      ]
    },
    {
      "cell_type": "markdown",
      "metadata": {
        "id": "pLYQca4uazo_"
      },
      "source": [
        "While the feature mapping allows us to build a more expressive classifier, it is also more susceptible to overfitting. In the next parts of the exercise, you will implement regularized logistic regression to fit the data and also see for yourself how regularization can help combat the overfitting problem.\n",
        "\n",
        "<a name=\"3.4\"></a>\n",
        "### 3.4 Cost function for regularized logistic regression\n",
        "\n",
        "In this part, you will implement the cost function for regularized logistic regression.\n",
        "\n",
        "Recall that for regularized logistic regression, the cost function is of the form\n",
        "$$J(\\mathbf{w},b) = \\frac{1}{m}  \\sum_{i=0}^{m-1} \\left[ -y^{(i)} \\log\\left(f_{\\mathbf{w},b}\\left( \\mathbf{x}^{(i)} \\right) \\right) - \\left( 1 - y^{(i)}\\right) \\log \\left( 1 - f_{\\mathbf{w},b}\\left( \\mathbf{x}^{(i)} \\right) \\right) \\right] + \\frac{\\lambda}{2m}  \\sum_{j=0}^{n-1} w_j^2$$\n",
        "\n",
        "Compare this to the cost function without regularization (which you implemented above), which is of the form\n",
        "\n",
        "$$ J(\\mathbf{w}.b) = \\frac{1}{m}\\sum_{i=0}^{m-1} \\left[ (-y^{(i)} \\log\\left(f_{\\mathbf{w},b}\\left( \\mathbf{x}^{(i)} \\right) \\right) - \\left( 1 - y^{(i)}\\right) \\log \\left( 1 - f_{\\mathbf{w},b}\\left( \\mathbf{x}^{(i)} \\right) \\right)\\right]$$\n",
        "\n",
        "The difference is the regularization term, which is $$\\frac{\\lambda}{2m}  \\sum_{j=0}^{n-1} w_j^2$$\n",
        "Note that the $b$ parameter is not regularized."
      ]
    },
    {
      "cell_type": "markdown",
      "metadata": {
        "id": "7oyjYlbvazo_"
      },
      "source": [
        "<a name='ex-05'></a>\n",
        "### Exercise 5\n",
        "\n",
        "Please complete the `compute_cost_reg` function below to calculate the following term for each element in $w$\n",
        "$$\\frac{\\lambda}{2m}  \\sum_{j=0}^{n-1} w_j^2$$\n",
        "\n",
        "The starter code then adds this to the cost without regularization (which you computed above in `compute_cost`) to calculate the cost with regulatization.\n",
        "\n",
        "If you get stuck, you can check out the hints presented after the cell below to help you with the implementation."
      ]
    },
    {
      "cell_type": "code",
      "execution_count": 118,
      "metadata": {
        "id": "la67rRh3azpA"
      },
      "outputs": [],
      "source": [
        "# UNQ_C5\n",
        "def compute_cost_reg(X, y, w, b, lambda_ = 1):\n",
        "    \"\"\"\n",
        "    Computes the cost over all examples\n",
        "    Args:\n",
        "      X : (array_like Shape (m,n)) data, m examples by n features\n",
        "      y : (array_like Shape (m,)) target value\n",
        "      w : (array_like Shape (n,)) Values of parameters of the model\n",
        "      b : (array_like Shape (n,)) Values of bias parameter of the model\n",
        "      lambda_ : (scalar, float)    Controls amount of regularization\n",
        "    Returns:\n",
        "      total_cost: (scalar)         cost\n",
        "    \"\"\"\n",
        "\n",
        "    m, n = X.shape\n",
        "\n",
        "    # Calls the compute_cost function that you implemented above\n",
        "    cost_without_reg = compute_cost(X, y, w, b)\n",
        "\n",
        "    # You need to calculate this value\n",
        "    reg_cost = 0.\n",
        "\n",
        "    ### START CODE HERE ###\n",
        "    reg_cost = np.sum(np.square(w))\n",
        "\n",
        "    ### END CODE HERE ###\n",
        "\n",
        "    # Add the regularization cost to get the total cost\n",
        "    total_cost = cost_without_reg + (lambda_/(2 * m)) * reg_cost\n",
        "\n",
        "    return total_cost"
      ]
    },
    {
      "cell_type": "markdown",
      "metadata": {
        "id": "tEypPmKtazpA"
      },
      "source": [
        "<details>\n",
        "  <summary><font size=\"3\" color=\"darkgreen\"><b>Click for hints</b></font></summary>\n",
        "    \n",
        "    \n",
        "* Here's how you can structure the overall implementation for this function\n",
        "    ```python\n",
        "       def compute_cost_reg(X, y, w, b, lambda_ = 1):\n",
        "   \n",
        "           m, n = X.shape\n",
        "    \n",
        "            # Calls the compute_cost function that you implemented above\n",
        "            cost_without_reg = compute_cost(X, y, w, b)\n",
        "    \n",
        "            # You need to calculate this value\n",
        "            reg_cost = 0.\n",
        "    \n",
        "            ### START CODE HERE ###\n",
        "            for j in range(n):\n",
        "                reg_cost_j = # Your code here to calculate the cost from w[j]\n",
        "                reg_cost = reg_cost + reg_cost_j\n",
        "\n",
        "            ### END CODE HERE ###\n",
        "    \n",
        "            # Add the regularization cost to get the total cost\n",
        "            total_cost = cost_without_reg + (lambda_/(2 * m)) * reg_cost\n",
        "\n",
        "        return total_cost\n",
        "    ```\n",
        "  \n",
        "    If you're still stuck, you can check the hints presented below to figure out how to calculate `reg_cost_j`\n",
        "    \n",
        "    <details>\n",
        "          <summary><font size=\"2\" color=\"darkblue\"><b>Hint to calculate reg_cost_j</b></font></summary>\n",
        "           &emsp; &emsp; You can use calculate reg_cost_j as <code>reg_cost_j = w[j]**2 </code>\n",
        "    </details>\n",
        "        \n",
        "    </details>\n",
        "\n",
        "</details>\n",
        "\n",
        "    "
      ]
    },
    {
      "cell_type": "markdown",
      "metadata": {
        "id": "090C0QSTazpA"
      },
      "source": [
        "Run the cell below to check your implementation of the `compute_cost_reg` function."
      ]
    },
    {
      "cell_type": "code",
      "execution_count": 120,
      "metadata": {
        "colab": {
          "base_uri": "https://localhost:8080/"
        },
        "id": "66ukLN8fazpA",
        "outputId": "d6d67e56-46ac-46ad-dcf6-33ce5ff56ee6"
      },
      "outputs": [
        {
          "output_type": "stream",
          "name": "stdout",
          "text": [
            "Regularized cost : 3.49199940103722\n"
          ]
        }
      ],
      "source": [
        "X_mapped = map_feature(X_train[:, 0], X_train[:, 1])\n",
        "np.random.seed(1)\n",
        "initial_w = np.random.rand(X_mapped.shape[1]) - 0.5\n",
        "initial_b = 0.5\n",
        "lambda_ = 0.5\n",
        "cost = compute_cost_reg(X_mapped, y_train, initial_w, initial_b, lambda_)\n",
        "\n",
        "print(\"Regularized cost :\", cost)\n",
        "\n",
        "# UNIT TEST\n",
        "#compute_cost_reg_test(compute_cost_reg)\n"
      ]
    },
    {
      "cell_type": "markdown",
      "metadata": {
        "id": "qJ7wxBTWazpB"
      },
      "source": [
        "**Expected Output**:\n",
        "<table>\n",
        "  <tr>\n",
        "    <td> <b>Regularized cost : <b></td>\n",
        "    <td> 0.6618252552483948 </td>\n",
        "  </tr>\n",
        "</table>"
      ]
    },
    {
      "cell_type": "markdown",
      "metadata": {
        "id": "sXyQUo8WazpB"
      },
      "source": [
        "<a name=\"3.5\"></a>\n",
        "### 3.5 Gradient for regularized logistic regression\n",
        "\n",
        "In this section, you will implement the gradient for regularized logistic regression.\n",
        "\n",
        "\n",
        "The gradient of the regularized cost function has two components. The first, $\\frac{\\partial J(\\mathbf{w},b)}{\\partial b}$ is a scalar, the other is a vector with the same shape as the parameters $\\mathbf{w}$, where the $j^\\mathrm{th}$ element is defined as follows:\n",
        "\n",
        "$$\\frac{\\partial J(\\mathbf{w},b)}{\\partial b} = \\frac{1}{m}  \\sum_{i=0}^{m-1} (f_{\\mathbf{w},b}(\\mathbf{x}^{(i)}) - y^{(i)})  $$\n",
        "\n",
        "$$\\frac{\\partial J(\\mathbf{w},b)}{\\partial w_j} = \\left( \\frac{1}{m}  \\sum_{i=0}^{m-1} (f_{\\mathbf{w},b}(\\mathbf{x}^{(i)}) - y^{(i)}) x_j^{(i)} \\right) + \\frac{\\lambda}{m} w_j  \\quad\\, \\mbox{for $j=0...(n-1)$}$$\n",
        "\n",
        "Compare this to the gradient of the cost function without regularization (which you implemented above), which is of the form\n",
        "$$\n",
        "\\frac{\\partial J(\\mathbf{w},b)}{\\partial b}  = \\frac{1}{m} \\sum\\limits_{i = 0}^{m-1} (f_{\\mathbf{w},b}(\\mathbf{x}^{(i)}) - \\mathbf{y}^{(i)}) \\tag{2}\n",
        "$$\n",
        "$$\n",
        "\\frac{\\partial J(\\mathbf{w},b)}{\\partial w_j}  = \\frac{1}{m} \\sum\\limits_{i = 0}^{m-1} (f_{\\mathbf{w},b}(\\mathbf{x}^{(i)}) - \\mathbf{y}^{(i)})x_{j}^{(i)} \\tag{3}\n",
        "$$\n",
        "\n",
        "\n",
        "As you can see,$\\frac{\\partial J(\\mathbf{w},b)}{\\partial b}$ is the same, the difference is the following term in $\\frac{\\partial J(\\mathbf{w},b)}{\\partial w}$, which is $$\\frac{\\lambda}{m} w_j  \\quad\\, \\mbox{for $j=0...(n-1)$}$$\n",
        "\n",
        "\n",
        "\n"
      ]
    },
    {
      "cell_type": "markdown",
      "metadata": {
        "id": "YRR6EWZqazpB"
      },
      "source": [
        "<a name='ex-06'></a>\n",
        "### Exercise 6\n",
        "\n",
        "Please complete the `compute_gradient_reg` function below to modify the code below to calculate the following term\n",
        "\n",
        "$$\\frac{\\lambda}{m} w_j  \\quad\\, \\mbox{for $j=0...(n-1)$}$$\n",
        "\n",
        "The starter code will add this term to the $\\frac{\\partial J(\\mathbf{w},b)}{\\partial w}$ returned from `compute_gradient` above to get the gradient for the regularized cost function.\n",
        "\n",
        "\n",
        "If you get stuck, you can check out the hints presented after the cell below to help you with the implementation."
      ]
    },
    {
      "cell_type": "code",
      "execution_count": 121,
      "metadata": {
        "id": "elyKnVYDazpB"
      },
      "outputs": [],
      "source": [
        "# UNQ_C6\n",
        "def compute_gradient_reg(X, y, w, b, lambda_ = 1):\n",
        "    \"\"\"\n",
        "    Computes the gradient for linear regression\n",
        "\n",
        "    Args:\n",
        "      X : (ndarray Shape (m,n))   variable such as house size\n",
        "      y : (ndarray Shape (m,))    actual value\n",
        "      w : (ndarray Shape (n,))    values of parameters of the model\n",
        "      b : (scalar)                value of parameter of the model\n",
        "      lambda_ : (scalar,float)    regularization constant\n",
        "    Returns\n",
        "      dj_db: (scalar)             The gradient of the cost w.r.t. the parameter b.\n",
        "      dj_dw: (ndarray Shape (n,)) The gradient of the cost w.r.t. the parameters w.\n",
        "\n",
        "    \"\"\"\n",
        "    m, n = X.shape\n",
        "\n",
        "    dj_db, dj_dw = compute_gradient(X, y, w, b)\n",
        "\n",
        "    ### START CODE HERE ###\n",
        "    reg_term_dw = (lambda_ / m) * w\n",
        "    dj_dw = dj_dw + reg_term_dw\n",
        "\n",
        "    ### END CODE HERE ###\n",
        "\n",
        "    return dj_db, dj_dw"
      ]
    },
    {
      "cell_type": "markdown",
      "metadata": {
        "id": "MUiVTBKAazpB"
      },
      "source": [
        "<details>\n",
        "  <summary><font size=\"3\" color=\"darkgreen\"><b>Click for hints</b></font></summary>\n",
        "    \n",
        "    \n",
        "* Here's how you can structure the overall implementation for this function\n",
        "    ```python\n",
        "    def compute_gradient_reg(X, y, w, b, lambda_ = 1):\n",
        "        m, n = X.shape\n",
        "    \n",
        "        dj_db, dj_dw = compute_gradient(X, y, w, b)\n",
        "\n",
        "        ### START CODE HERE ###     \n",
        "        # Loop over the elements of w\n",
        "        for j in range(n):\n",
        "            \n",
        "            dj_dw_j_reg = # Your code here to calculate the regularization term for dj_dw[j]\n",
        "            \n",
        "            # Add the regularization term  to the correspoding element of dj_dw\n",
        "            dj_dw[j] = dj_dw[j] + dj_dw_j_reg\n",
        "        \n",
        "        ### END CODE HERE ###         \n",
        "        \n",
        "        return dj_db, dj_dw\n",
        "    ```\n",
        "  \n",
        "    If you're still stuck, you can check the hints presented below to figure out how to calculate `dj_dw_j_reg`\n",
        "    \n",
        "    <details>\n",
        "          <summary><font size=\"2\" color=\"darkblue\"><b>Hint to calculate dj_dw_j_reg</b></font></summary>\n",
        "           &emsp; &emsp; You can use calculate dj_dw_j_reg as <code>dj_dw_j_reg = (lambda_ / m) * w[j] </code>\n",
        "    </details>\n",
        "        \n",
        "    </details>\n",
        "\n",
        "</details>\n",
        "\n",
        "    \n"
      ]
    },
    {
      "cell_type": "markdown",
      "metadata": {
        "id": "_r34ISCqazpC"
      },
      "source": [
        "Run the cell below to check your implementation of the `compute_gradient_reg` function."
      ]
    },
    {
      "cell_type": "code",
      "execution_count": 123,
      "metadata": {
        "colab": {
          "base_uri": "https://localhost:8080/"
        },
        "id": "smBG1zNqazpC",
        "outputId": "5a7b0be2-fbe8-4551-c619-5a1bd03dc76e"
      },
      "outputs": [
        {
          "output_type": "stream",
          "name": "stdout",
          "text": [
            "dj_db: -0.032584177675623986\n",
            "First few elements of regularized dj_dw:\n",
            " [-0.03293577935061308, 0.02734640400193701, -0.037160242284574624, 0.20630846668618166]\n"
          ]
        }
      ],
      "source": [
        "X_mapped = map_feature(X_train[:, 0], X_train[:, 1])\n",
        "np.random.seed(1)\n",
        "initial_w  = np.random.rand(X_mapped.shape[1]) - 0.5\n",
        "initial_b = 0.5\n",
        "\n",
        "lambda_ = 0.5\n",
        "dj_db, dj_dw = compute_gradient_reg(X_mapped, y_train, initial_w, initial_b, lambda_)\n",
        "\n",
        "print(f\"dj_db: {dj_db}\", )\n",
        "print(f\"First few elements of regularized dj_dw:\\n {dj_dw[:4].tolist()}\", )\n",
        "\n",
        "# UNIT TESTS\n",
        "#compute_gradient_reg_test(compute_gradient_reg)\n"
      ]
    },
    {
      "cell_type": "markdown",
      "metadata": {
        "id": "92wUt4NvazpC"
      },
      "source": [
        "**Expected Output**:\n",
        "<table>\n",
        "  <tr>\n",
        "    <td> <b>dj_db:</b>0.07138288792343656</td> </tr>\n",
        "  <tr>\n",
        "      <td> <b> First few elements of regularized dj_dw:</b> </td> </tr>\n",
        "   <tr>\n",
        "   <td> [[-0.010386028450548701], [0.01140985288328012], [0.0536273463274574], [0.003140278267313462]] </td>\n",
        "  </tr>\n",
        "</table>"
      ]
    },
    {
      "cell_type": "code",
      "source": [
        "def gradient_descent(X, y, w_init, b_init, compute_cost, compute_gradient, alpha, iterations, lambda_):\n",
        "    w = w_init\n",
        "    b = b_init\n",
        "    m = X.shape[0]\n",
        "    J_history = []\n",
        "\n",
        "    for i in range(iterations):\n",
        "        # Compute cost and gradient\n",
        "        cost = compute_cost(X, y, w, b, lambda_)\n",
        "        dj_db, dj_dw = compute_gradient(X, y, w, b, lambda_)\n",
        "\n",
        "        # Update parameters\n",
        "        w -= alpha * dj_dw\n",
        "        b -= alpha * dj_db\n",
        "\n",
        "        # Save cost J in every iteration\n",
        "        J_history.append(cost)\n",
        "\n",
        "    return w, b, J_history, None"
      ],
      "metadata": {
        "id": "TjvXNfUqizv1"
      },
      "execution_count": 129,
      "outputs": []
    },
    {
      "cell_type": "code",
      "execution_count": 130,
      "metadata": {
        "id": "EbCh-doCazpC"
      },
      "outputs": [],
      "source": [
        "# Initialize fitting parameters\n",
        "np.random.seed(1)\n",
        "initial_w = np.random.rand(X_mapped.shape[1])-0.5\n",
        "initial_b = 1.\n",
        "\n",
        "# Set regularization parameter lambda_ to 1 (you can try varying this)\n",
        "lambda_ = 0.01;\n",
        "# Some gradient descent settings\n",
        "iterations = 10000\n",
        "alpha = 0.01\n",
        "\n",
        "w,b, J_history,_ = gradient_descent(X_mapped, y_train, initial_w, initial_b,\n",
        "                                    compute_cost_reg, compute_gradient_reg,\n",
        "                                    alpha, iterations, lambda_)"
      ]
    },
    {
      "cell_type": "markdown",
      "metadata": {
        "id": "GPn_EQEKazpD"
      },
      "source": [
        "<details>\n",
        "<summary>\n",
        "    <b>Expected Output: Cost < 0.5  (Click for details)</b>\n",
        "</summary>\n",
        "\n",
        "```\n",
        "# Using the following settings\n",
        "#np.random.seed(1)\n",
        "#initial_w = np.random.rand(X_mapped.shape[1])-0.5\n",
        "#initial_b = 1.\n",
        "#lambda_ = 0.01;                                          \n",
        "#iterations = 10000\n",
        "#alpha = 0.01\n",
        "Iteration    0: Cost     0.72   \n",
        "Iteration 1000: Cost     0.59   \n",
        "Iteration 2000: Cost     0.56   \n",
        "Iteration 3000: Cost     0.53   \n",
        "Iteration 4000: Cost     0.51   \n",
        "Iteration 5000: Cost     0.50   \n",
        "Iteration 6000: Cost     0.48   \n",
        "Iteration 7000: Cost     0.47   \n",
        "Iteration 8000: Cost     0.46   \n",
        "Iteration 9000: Cost     0.45   \n",
        "Iteration 9999: Cost     0.45       \n",
        "    \n",
        "```"
      ]
    },
    {
      "cell_type": "markdown",
      "metadata": {
        "id": "91RYvPrEazpD"
      },
      "source": [
        "<a name=\"3.7\"></a>\n",
        "### 3.7 Plotting the decision boundary\n",
        "To help you visualize the model learned by this classifier, we will use our `plot_decision_boundary` function which plots the (non-linear) decision boundary that separates the positive and negative examples.\n",
        "\n",
        "- In the function, we plotted the non-linear decision boundary by computing the classifier’s predictions on an evenly spaced grid and then drew a contour plot of where the predictions change from y = 0 to y = 1.\n",
        "\n",
        "- After learning the parameters $w$,$b$, the next step is to plot a decision boundary similar to Figure 4.\n",
        "\n",
        "<img src=\"images/figure 4.png\"  width=\"450\" height=\"450\">"
      ]
    },
    {
      "cell_type": "code",
      "source": [],
      "metadata": {
        "id": "JEnANVQgm45-"
      },
      "execution_count": null,
      "outputs": []
    },
    {
      "cell_type": "code",
      "source": [
        "def plot_decision_boundary(w, b, X, y, title=\"Decision Boundary\"):\n",
        "  plt.scatter(X[:, 0], X[:, 1], c=y, cmap=plt.cm.RdYlBu, edgecolors='k', s=20)\n",
        "\n",
        "    # Set plot limits\n",
        "  x_min, x_max = X[:, 0].min() - 1, X[:, 0].max() + 1\n",
        "  y_min, y_max = X[:, 1].min() - 1, X[:, 1].max() + 1\n",
        "  xx, yy = np.meshgrid(np.linspace(x_min, x_max, 100), np.linspace(y_min, y_max, 100))\n",
        "\n",
        "    # Compute the decision boundary\n",
        "  Z = np.dot(np.c_[xx.ravel(), yy.ravel()], w) + b\n",
        "  Z = Z.reshape(xx.shape)\n",
        "\n",
        "    # Plot decision boundary\n",
        "  plt.contourf(xx, yy, Z, levels=[0], colors=['#FFDDDD', '#DDFFDD'], alpha=0.3)\n",
        "  plt.contour(xx, yy, Z, levels=[0], colors='k', linewidths=2)"
      ],
      "metadata": {
        "id": "RCnbHSuCmAWV"
      },
      "execution_count": 133,
      "outputs": []
    },
    {
      "cell_type": "code",
      "execution_count": 141,
      "metadata": {
        "colab": {
          "base_uri": "https://localhost:8080/",
          "height": 1000
        },
        "id": "uq05JJkDazpD",
        "outputId": "c589fa68-e366-47d1-b558-b3590cb79d80"
      },
      "outputs": [
        {
          "output_type": "stream",
          "name": "stderr",
          "text": [
            "WARNING:matplotlib.legend:No artists with labels found to put in legend.  Note that artists whose label start with an underscore are ignored when legend() is called with no argument.\n"
          ]
        },
        {
          "output_type": "display_data",
          "data": {
            "text/plain": [
              "<Figure size 640x480 with 1 Axes>"
            ],
            "image/png": "[encoded data removed]"
          },
          "metadata": {}
        },
        {
          "output_type": "error",
          "ename": "ValueError",
          "evalue": "shapes (10000,2) and (28,) not aligned: 2 (dim 1) != 28 (dim 0)",
          "traceback": [
            "\u001b[0;31m---------------------------------------------------------------------------\u001b[0m",
            "\u001b[0;31mValueError\u001b[0m                                Traceback (most recent call last)",
            "\u001b[0;32m<ipython-input-141-0003a0b4cabb>\u001b[0m in \u001b[0;36m<cell line: 6>\u001b[0;34m()\u001b[0m\n\u001b[1;32m      4\u001b[0m \u001b[0mplt\u001b[0m\u001b[0;34m.\u001b[0m\u001b[0mshow\u001b[0m\u001b[0;34m(\u001b[0m\u001b[0;34m)\u001b[0m\u001b[0;34m\u001b[0m\u001b[0;34m\u001b[0m\u001b[0m\n\u001b[1;32m      5\u001b[0m \u001b[0mplt\u001b[0m\u001b[0;34m.\u001b[0m\u001b[0mtitle\u001b[0m\u001b[0;34m(\u001b[0m\u001b[0;34m\"Decision Boundary\"\u001b[0m\u001b[0;34m)\u001b[0m\u001b[0;34m\u001b[0m\u001b[0;34m\u001b[0m\u001b[0m\n\u001b[0;32m----> 6\u001b[0;31m \u001b[0mplot_decision_boundary\u001b[0m\u001b[0;34m(\u001b[0m\u001b[0mw\u001b[0m\u001b[0;34m,\u001b[0m \u001b[0mb\u001b[0m\u001b[0;34m,\u001b[0m \u001b[0mX_mapped\u001b[0m\u001b[0;34m,\u001b[0m \u001b[0my_train\u001b[0m\u001b[0;34m)\u001b[0m\u001b[0;34m\u001b[0m\u001b[0;34m\u001b[0m\u001b[0m\n\u001b[0m",
            "\u001b[0;32m<ipython-input-139-63514bf4edb0>\u001b[0m in \u001b[0;36mplot_decision_boundary\u001b[0;34m(w, b, X, y, title)\u001b[0m\n\u001b[1;32m     22\u001b[0m \u001b[0;34m\u001b[0m\u001b[0m\n\u001b[1;32m     23\u001b[0m     \u001b[0;31m# Compute the decision boundary\u001b[0m\u001b[0;34m\u001b[0m\u001b[0;34m\u001b[0m\u001b[0m\n\u001b[0;32m---> 24\u001b[0;31m     \u001b[0mZ\u001b[0m \u001b[0;34m=\u001b[0m \u001b[0mnp\u001b[0m\u001b[0;34m.\u001b[0m\u001b[0mdot\u001b[0m\u001b[0;34m(\u001b[0m\u001b[0mnp\u001b[0m\u001b[0;34m.\u001b[0m\u001b[0mc_\u001b[0m\u001b[0;34m[\u001b[0m\u001b[0mxx\u001b[0m\u001b[0;34m.\u001b[0m\u001b[0mravel\u001b[0m\u001b[0;34m(\u001b[0m\u001b[0;34m)\u001b[0m\u001b[0;34m,\u001b[0m \u001b[0myy\u001b[0m\u001b[0;34m.\u001b[0m\u001b[0mravel\u001b[0m\u001b[0;34m(\u001b[0m\u001b[0;34m)\u001b[0m\u001b[0;34m]\u001b[0m\u001b[0;34m,\u001b[0m \u001b[0mw\u001b[0m\u001b[0;34m)\u001b[0m \u001b[0;34m+\u001b[0m \u001b[0mb\u001b[0m\u001b[0;34m\u001b[0m\u001b[0;34m\u001b[0m\u001b[0m\n\u001b[0m\u001b[1;32m     25\u001b[0m     \u001b[0mZ\u001b[0m \u001b[0;34m=\u001b[0m \u001b[0mZ\u001b[0m\u001b[0;34m.\u001b[0m\u001b[0mreshape\u001b[0m\u001b[0;34m(\u001b[0m\u001b[0mxx\u001b[0m\u001b[0;34m.\u001b[0m\u001b[0mshape\u001b[0m\u001b[0;34m)\u001b[0m\u001b[0;34m\u001b[0m\u001b[0;34m\u001b[0m\u001b[0m\n\u001b[1;32m     26\u001b[0m \u001b[0;34m\u001b[0m\u001b[0m\n",
            "\u001b[0;31mValueError\u001b[0m: shapes (10000,2) and (28,) not aligned: 2 (dim 1) != 28 (dim 0)"
          ]
        },
        {
          "output_type": "display_data",
          "data": {
            "text/plain": [
              "<Figure size 640x480 with 1 Axes>"
            ],
            "image/png": "[encoded data removed]"
          },
          "metadata": {}
        }
      ],
      "source": [
        "plt.xlabel('Feature 1')\n",
        "plt.ylabel('Feature 2')\n",
        "plt.legend(loc=\"upper right\")\n",
        "plt.show()\n",
        "plt.title(\"Decision Boundary\")\n",
        "plot_decision_boundary(w, b, X_mapped, y_train)"
      ]
    },
    {
      "cell_type": "markdown",
      "metadata": {
        "id": "RRyH9h-bazqC"
      },
      "source": [
        "<a name=\"3.8\"></a>\n",
        "### 3.8 Evaluating regularized logistic regression model\n",
        "\n",
        "You will use the `predict` function that you implemented above to calculate the accuracy of the regulaized logistic regression model on the training set"
      ]
    },
    {
      "cell_type": "code",
      "execution_count": 142,
      "metadata": {
        "colab": {
          "base_uri": "https://localhost:8080/"
        },
        "id": "TkRIP94WazqD",
        "outputId": "8a789e67-913d-4b69-af94-162b29cbb0d0"
      },
      "outputs": [
        {
          "output_type": "stream",
          "name": "stdout",
          "text": [
            "Train Accuracy: 68.644068\n"
          ]
        }
      ],
      "source": [
        "#Compute accuracy on the training set\n",
        "p = predict(X_mapped, w, b)\n",
        "\n",
        "print('Train Accuracy: %f'%(np.mean(p == y_train) * 100))"
      ]
    },
    {
      "cell_type": "markdown",
      "metadata": {
        "id": "BieCyk72azqD"
      },
      "source": [
        "**Expected Output**:\n",
        "<table>\n",
        "  <tr>\n",
        "    <td> <b>Train Accuracy:</b>~ 80%</td> </tr>\n",
        "</table>"
      ]
    }
  ],
  "metadata": {
    "kernelspec": {
      "display_name": "Python 3 (ipykernel)",
      "language": "python",
      "name": "python3"
    },
    "language_info": {
      "codemirror_mode": {
        "name": "ipython",
        "version": 3
      },
      "file_extension": ".py",
      "mimetype": "text/x-python",
      "name": "python",
      "nbconvert_exporter": "python",
      "pygments_lexer": "ipython3",
      "version": "3.9.6"
    },
    "colab": {
      "provenance": [],
      "collapsed_sections": [
        "_XCXB-vBazoy"
      ]
    }
  },
  "nbformat": 4,
  "nbformat_minor": 0
}